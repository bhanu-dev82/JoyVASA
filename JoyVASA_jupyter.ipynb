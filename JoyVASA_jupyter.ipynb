{
  "cells": [
    {
      "cell_type": "markdown",
      "metadata": {
        "id": "view-in-github",
        "colab_type": "text"
      },
      "source": [
        "<a href=\"https://colab.research.google.com/github/bhanu-dev82/JoyVASA/blob/main/JoyVASA_jupyter.ipynb\" target=\"_parent\"><img src=\"https://colab.research.google.com/assets/colab-badge.svg\" alt=\"Open In Colab\"/></a>"
      ]
    },
    {
      "cell_type": "code",
      "source": [
        "import os\n",
        "os.environ['TORCH_CUDA_ARCH_LIST'] = '8.0'\n",
        "!pip install ninja"
      ],
      "metadata": {
        "id": "mkwvW62Q5zRq",
        "outputId": "38509431-3eb9-428f-a3ed-14e36d5ebe24",
        "colab": {
          "base_uri": "https://localhost:8080/"
        }
      },
      "execution_count": 1,
      "outputs": [
        {
          "output_type": "stream",
          "name": "stdout",
          "text": [
            "Collecting ninja\n",
            "  Downloading ninja-1.11.1.4-py3-none-manylinux_2_12_x86_64.manylinux2010_x86_64.whl.metadata (5.0 kB)\n",
            "Downloading ninja-1.11.1.4-py3-none-manylinux_2_12_x86_64.manylinux2010_x86_64.whl (422 kB)\n",
            "\u001b[2K   \u001b[90m━━━━━━━━━━━━━━━━━━━━━━━━━━━━━━━━━━━━━━━━\u001b[0m \u001b[32m422.8/422.8 kB\u001b[0m \u001b[31m8.0 MB/s\u001b[0m eta \u001b[36m0:00:00\u001b[0m\n",
            "\u001b[?25hInstalling collected packages: ninja\n",
            "Successfully installed ninja-1.11.1.4\n"
          ]
        }
      ]
    },
    {
      "cell_type": "code",
      "source": [
        "!ls"
      ],
      "metadata": {
        "id": "-V2YuujnPznu",
        "outputId": "f73d94f5-c416-4a37-f252-f5c4d2226e8e",
        "colab": {
          "base_uri": "https://localhost:8080/"
        }
      },
      "execution_count": 4,
      "outputs": [
        {
          "output_type": "stream",
          "name": "stdout",
          "text": [
            "animations  data\t  LICENSE\t      requirements.txt\n",
            "app.py\t    inference.py  pretrained_weights  src\n",
            "assets\t    __init__.py   README.md\t      train.py\n"
          ]
        }
      ]
    },
    {
      "cell_type": "code",
      "execution_count": 2,
      "metadata": {
        "id": "VjYy0F2gZIPR",
        "outputId": "3563d760-1322-4d61-ba25-968861eefa2b",
        "colab": {
          "base_uri": "https://localhost:8080/"
        }
      },
      "outputs": [
        {
          "output_type": "stream",
          "name": "stdout",
          "text": [
            "/content\n",
            "Cloning into 'JoyVASA'...\n",
            "remote: Enumerating objects: 266, done.\u001b[K\n",
            "remote: Counting objects: 100% (50/50), done.\u001b[K\n",
            "remote: Compressing objects: 100% (30/30), done.\u001b[K\n",
            "remote: Total 266 (delta 29), reused 20 (delta 20), pack-reused 216 (from 1)\u001b[K\n",
            "Receiving objects: 100% (266/266), 11.30 MiB | 37.80 MiB/s, done.\n",
            "Resolving deltas: 100% (63/63), done.\n",
            "Collecting tyro\n",
            "  Downloading tyro-0.9.20-py3-none-any.whl.metadata (10 kB)\n",
            "Collecting gradio\n",
            "  Downloading gradio-5.29.1-py3-none-any.whl.metadata (16 kB)\n",
            "Collecting onnx\n",
            "  Downloading onnx-1.18.0-cp311-cp311-manylinux_2_17_x86_64.manylinux2014_x86_64.whl.metadata (6.9 kB)\n",
            "Collecting onnxruntime\n",
            "  Downloading onnxruntime-1.22.0-cp311-cp311-manylinux_2_27_x86_64.manylinux_2_28_x86_64.whl.metadata (4.5 kB)\n",
            "Collecting onnxruntime-gpu\n",
            "  Downloading onnxruntime_gpu-1.22.0-cp311-cp311-manylinux_2_27_x86_64.manylinux_2_28_x86_64.whl.metadata (4.9 kB)\n",
            "Collecting pykalman\n",
            "  Downloading pykalman-0.10.1-py2.py3-none-any.whl.metadata (9.5 kB)\n",
            "Collecting colorama\n",
            "  Downloading colorama-0.4.6-py2.py3-none-any.whl.metadata (17 kB)\n",
            "Requirement already satisfied: docstring-parser>=0.15 in /usr/local/lib/python3.11/dist-packages (from tyro) (0.16)\n",
            "Requirement already satisfied: rich>=11.1.0 in /usr/local/lib/python3.11/dist-packages (from tyro) (13.9.4)\n",
            "Collecting shtab>=1.5.6 (from tyro)\n",
            "  Downloading shtab-1.7.2-py3-none-any.whl.metadata (7.4 kB)\n",
            "Requirement already satisfied: typeguard>=4.0.0 in /usr/local/lib/python3.11/dist-packages (from tyro) (4.4.2)\n",
            "Requirement already satisfied: typing-extensions>=4.13.0 in /usr/local/lib/python3.11/dist-packages (from tyro) (4.13.2)\n",
            "Collecting aiofiles<25.0,>=22.0 (from gradio)\n",
            "  Downloading aiofiles-24.1.0-py3-none-any.whl.metadata (10 kB)\n",
            "Requirement already satisfied: anyio<5.0,>=3.0 in /usr/local/lib/python3.11/dist-packages (from gradio) (4.9.0)\n",
            "Collecting fastapi<1.0,>=0.115.2 (from gradio)\n",
            "  Downloading fastapi-0.115.12-py3-none-any.whl.metadata (27 kB)\n",
            "Collecting ffmpy (from gradio)\n",
            "  Downloading ffmpy-0.5.0-py3-none-any.whl.metadata (3.0 kB)\n",
            "Collecting gradio-client==1.10.1 (from gradio)\n",
            "  Downloading gradio_client-1.10.1-py3-none-any.whl.metadata (7.1 kB)\n",
            "Collecting groovy~=0.1 (from gradio)\n",
            "  Downloading groovy-0.1.2-py3-none-any.whl.metadata (6.1 kB)\n",
            "Requirement already satisfied: httpx>=0.24.1 in /usr/local/lib/python3.11/dist-packages (from gradio) (0.28.1)\n",
            "Requirement already satisfied: huggingface-hub>=0.28.1 in /usr/local/lib/python3.11/dist-packages (from gradio) (0.31.2)\n",
            "Requirement already satisfied: jinja2<4.0 in /usr/local/lib/python3.11/dist-packages (from gradio) (3.1.6)\n",
            "Requirement already satisfied: markupsafe<4.0,>=2.0 in /usr/local/lib/python3.11/dist-packages (from gradio) (3.0.2)\n",
            "Requirement already satisfied: numpy<3.0,>=1.0 in /usr/local/lib/python3.11/dist-packages (from gradio) (2.0.2)\n",
            "Requirement already satisfied: orjson~=3.0 in /usr/local/lib/python3.11/dist-packages (from gradio) (3.10.18)\n",
            "Requirement already satisfied: packaging in /usr/local/lib/python3.11/dist-packages (from gradio) (24.2)\n",
            "Requirement already satisfied: pandas<3.0,>=1.0 in /usr/local/lib/python3.11/dist-packages (from gradio) (2.2.2)\n",
            "Requirement already satisfied: pillow<12.0,>=8.0 in /usr/local/lib/python3.11/dist-packages (from gradio) (11.2.1)\n",
            "Requirement already satisfied: pydantic<2.12,>=2.0 in /usr/local/lib/python3.11/dist-packages (from gradio) (2.11.4)\n",
            "Collecting pydub (from gradio)\n",
            "  Downloading pydub-0.25.1-py2.py3-none-any.whl.metadata (1.4 kB)\n",
            "Collecting python-multipart>=0.0.18 (from gradio)\n",
            "  Downloading python_multipart-0.0.20-py3-none-any.whl.metadata (1.8 kB)\n",
            "Requirement already satisfied: pyyaml<7.0,>=5.0 in /usr/local/lib/python3.11/dist-packages (from gradio) (6.0.2)\n",
            "Collecting ruff>=0.9.3 (from gradio)\n",
            "  Downloading ruff-0.11.10-py3-none-manylinux_2_17_x86_64.manylinux2014_x86_64.whl.metadata (25 kB)\n",
            "Collecting safehttpx<0.2.0,>=0.1.6 (from gradio)\n",
            "  Downloading safehttpx-0.1.6-py3-none-any.whl.metadata (4.2 kB)\n",
            "Collecting semantic-version~=2.0 (from gradio)\n",
            "  Downloading semantic_version-2.10.0-py2.py3-none-any.whl.metadata (9.7 kB)\n",
            "Collecting starlette<1.0,>=0.40.0 (from gradio)\n",
            "  Downloading starlette-0.46.2-py3-none-any.whl.metadata (6.2 kB)\n",
            "Collecting tomlkit<0.14.0,>=0.12.0 (from gradio)\n",
            "  Downloading tomlkit-0.13.2-py3-none-any.whl.metadata (2.7 kB)\n",
            "Requirement already satisfied: typer<1.0,>=0.12 in /usr/local/lib/python3.11/dist-packages (from gradio) (0.15.3)\n",
            "Collecting uvicorn>=0.14.0 (from gradio)\n",
            "  Downloading uvicorn-0.34.2-py3-none-any.whl.metadata (6.5 kB)\n",
            "Requirement already satisfied: fsspec in /usr/local/lib/python3.11/dist-packages (from gradio-client==1.10.1->gradio) (2025.3.2)\n",
            "Requirement already satisfied: websockets<16.0,>=10.0 in /usr/local/lib/python3.11/dist-packages (from gradio-client==1.10.1->gradio) (15.0.1)\n",
            "Requirement already satisfied: protobuf>=4.25.1 in /usr/local/lib/python3.11/dist-packages (from onnx) (5.29.4)\n",
            "Collecting coloredlogs (from onnxruntime)\n",
            "  Downloading coloredlogs-15.0.1-py2.py3-none-any.whl.metadata (12 kB)\n",
            "Requirement already satisfied: flatbuffers in /usr/local/lib/python3.11/dist-packages (from onnxruntime) (25.2.10)\n",
            "Requirement already satisfied: sympy in /usr/local/lib/python3.11/dist-packages (from onnxruntime) (1.13.1)\n",
            "Collecting scikit-base<0.13.0 (from pykalman)\n",
            "  Downloading scikit_base-0.12.2-py3-none-any.whl.metadata (8.8 kB)\n",
            "Requirement already satisfied: scipy<2.0.0 in /usr/local/lib/python3.11/dist-packages (from pykalman) (1.15.3)\n",
            "Requirement already satisfied: idna>=2.8 in /usr/local/lib/python3.11/dist-packages (from anyio<5.0,>=3.0->gradio) (3.10)\n",
            "Requirement already satisfied: sniffio>=1.1 in /usr/local/lib/python3.11/dist-packages (from anyio<5.0,>=3.0->gradio) (1.3.1)\n",
            "Requirement already satisfied: certifi in /usr/local/lib/python3.11/dist-packages (from httpx>=0.24.1->gradio) (2025.4.26)\n",
            "Requirement already satisfied: httpcore==1.* in /usr/local/lib/python3.11/dist-packages (from httpx>=0.24.1->gradio) (1.0.9)\n",
            "Requirement already satisfied: h11>=0.16 in /usr/local/lib/python3.11/dist-packages (from httpcore==1.*->httpx>=0.24.1->gradio) (0.16.0)\n",
            "Requirement already satisfied: filelock in /usr/local/lib/python3.11/dist-packages (from huggingface-hub>=0.28.1->gradio) (3.18.0)\n",
            "Requirement already satisfied: requests in /usr/local/lib/python3.11/dist-packages (from huggingface-hub>=0.28.1->gradio) (2.32.3)\n",
            "Requirement already satisfied: tqdm>=4.42.1 in /usr/local/lib/python3.11/dist-packages (from huggingface-hub>=0.28.1->gradio) (4.67.1)\n",
            "Requirement already satisfied: python-dateutil>=2.8.2 in /usr/local/lib/python3.11/dist-packages (from pandas<3.0,>=1.0->gradio) (2.9.0.post0)\n",
            "Requirement already satisfied: pytz>=2020.1 in /usr/local/lib/python3.11/dist-packages (from pandas<3.0,>=1.0->gradio) (2025.2)\n",
            "Requirement already satisfied: tzdata>=2022.7 in /usr/local/lib/python3.11/dist-packages (from pandas<3.0,>=1.0->gradio) (2025.2)\n",
            "Requirement already satisfied: annotated-types>=0.6.0 in /usr/local/lib/python3.11/dist-packages (from pydantic<2.12,>=2.0->gradio) (0.7.0)\n",
            "Requirement already satisfied: pydantic-core==2.33.2 in /usr/local/lib/python3.11/dist-packages (from pydantic<2.12,>=2.0->gradio) (2.33.2)\n",
            "Requirement already satisfied: typing-inspection>=0.4.0 in /usr/local/lib/python3.11/dist-packages (from pydantic<2.12,>=2.0->gradio) (0.4.0)\n",
            "Requirement already satisfied: markdown-it-py>=2.2.0 in /usr/local/lib/python3.11/dist-packages (from rich>=11.1.0->tyro) (3.0.0)\n",
            "Requirement already satisfied: pygments<3.0.0,>=2.13.0 in /usr/local/lib/python3.11/dist-packages (from rich>=11.1.0->tyro) (2.19.1)\n",
            "Requirement already satisfied: click>=8.0.0 in /usr/local/lib/python3.11/dist-packages (from typer<1.0,>=0.12->gradio) (8.2.0)\n",
            "Requirement already satisfied: shellingham>=1.3.0 in /usr/local/lib/python3.11/dist-packages (from typer<1.0,>=0.12->gradio) (1.5.4)\n",
            "Collecting humanfriendly>=9.1 (from coloredlogs->onnxruntime)\n",
            "  Downloading humanfriendly-10.0-py2.py3-none-any.whl.metadata (9.2 kB)\n",
            "Requirement already satisfied: mpmath<1.4,>=1.1.0 in /usr/local/lib/python3.11/dist-packages (from sympy->onnxruntime) (1.3.0)\n",
            "Requirement already satisfied: mdurl~=0.1 in /usr/local/lib/python3.11/dist-packages (from markdown-it-py>=2.2.0->rich>=11.1.0->tyro) (0.1.2)\n",
            "Requirement already satisfied: six>=1.5 in /usr/local/lib/python3.11/dist-packages (from python-dateutil>=2.8.2->pandas<3.0,>=1.0->gradio) (1.17.0)\n",
            "Requirement already satisfied: charset-normalizer<4,>=2 in /usr/local/lib/python3.11/dist-packages (from requests->huggingface-hub>=0.28.1->gradio) (3.4.2)\n",
            "Requirement already satisfied: urllib3<3,>=1.21.1 in /usr/local/lib/python3.11/dist-packages (from requests->huggingface-hub>=0.28.1->gradio) (2.4.0)\n",
            "Downloading tyro-0.9.20-py3-none-any.whl (125 kB)\n",
            "\u001b[2K   \u001b[90m━━━━━━━━━━━━━━━━━━━━━━━━━━━━━━━━━━━━━━━━\u001b[0m \u001b[32m125.3/125.3 kB\u001b[0m \u001b[31m7.3 MB/s\u001b[0m eta \u001b[36m0:00:00\u001b[0m\n",
            "\u001b[?25hDownloading gradio-5.29.1-py3-none-any.whl (54.1 MB)\n",
            "\u001b[2K   \u001b[90m━━━━━━━━━━━━━━━━━━━━━━━━━━━━━━━━━━━━━━━━\u001b[0m \u001b[32m54.1/54.1 MB\u001b[0m \u001b[31m20.5 MB/s\u001b[0m eta \u001b[36m0:00:00\u001b[0m\n",
            "\u001b[?25hDownloading gradio_client-1.10.1-py3-none-any.whl (323 kB)\n",
            "\u001b[2K   \u001b[90m━━━━━━━━━━━━━━━━━━━━━━━━━━━━━━━━━━━━━━━━\u001b[0m \u001b[32m323.1/323.1 kB\u001b[0m \u001b[31m25.1 MB/s\u001b[0m eta \u001b[36m0:00:00\u001b[0m\n",
            "\u001b[?25hDownloading onnx-1.18.0-cp311-cp311-manylinux_2_17_x86_64.manylinux2014_x86_64.whl (17.6 MB)\n",
            "\u001b[2K   \u001b[90m━━━━━━━━━━━━━━━━━━━━━━━━━━━━━━━━━━━━━━━━\u001b[0m \u001b[32m17.6/17.6 MB\u001b[0m \u001b[31m73.9 MB/s\u001b[0m eta \u001b[36m0:00:00\u001b[0m\n",
            "\u001b[?25hDownloading onnxruntime-1.22.0-cp311-cp311-manylinux_2_27_x86_64.manylinux_2_28_x86_64.whl (16.4 MB)\n",
            "\u001b[2K   \u001b[90m━━━━━━━━━━━━━━━━━━━━━━━━━━━━━━━━━━━━━━━━\u001b[0m \u001b[32m16.4/16.4 MB\u001b[0m \u001b[31m80.0 MB/s\u001b[0m eta \u001b[36m0:00:00\u001b[0m\n",
            "\u001b[?25hDownloading onnxruntime_gpu-1.22.0-cp311-cp311-manylinux_2_27_x86_64.manylinux_2_28_x86_64.whl (283.2 MB)\n",
            "\u001b[2K   \u001b[90m━━━━━━━━━━━━━━━━━━━━━━━━━━━━━━━━━━━━━━━━\u001b[0m \u001b[32m283.2/283.2 MB\u001b[0m \u001b[31m5.4 MB/s\u001b[0m eta \u001b[36m0:00:00\u001b[0m\n",
            "\u001b[?25hDownloading pykalman-0.10.1-py2.py3-none-any.whl (248 kB)\n",
            "\u001b[2K   \u001b[90m━━━━━━━━━━━━━━━━━━━━━━━━━━━━━━━━━━━━━━━━\u001b[0m \u001b[32m248.5/248.5 kB\u001b[0m \u001b[31m20.0 MB/s\u001b[0m eta \u001b[36m0:00:00\u001b[0m\n",
            "\u001b[?25hDownloading colorama-0.4.6-py2.py3-none-any.whl (25 kB)\n",
            "Downloading aiofiles-24.1.0-py3-none-any.whl (15 kB)\n",
            "Downloading fastapi-0.115.12-py3-none-any.whl (95 kB)\n",
            "\u001b[2K   \u001b[90m━━━━━━━━━━━━━━━━━━━━━━━━━━━━━━━━━━━━━━━━\u001b[0m \u001b[32m95.2/95.2 kB\u001b[0m \u001b[31m9.1 MB/s\u001b[0m eta \u001b[36m0:00:00\u001b[0m\n",
            "\u001b[?25hDownloading groovy-0.1.2-py3-none-any.whl (14 kB)\n",
            "Downloading python_multipart-0.0.20-py3-none-any.whl (24 kB)\n",
            "Downloading ruff-0.11.10-py3-none-manylinux_2_17_x86_64.manylinux2014_x86_64.whl (11.6 MB)\n",
            "\u001b[2K   \u001b[90m━━━━━━━━━━━━━━━━━━━━━━━━━━━━━━━━━━━━━━━━\u001b[0m \u001b[32m11.6/11.6 MB\u001b[0m \u001b[31m117.6 MB/s\u001b[0m eta \u001b[36m0:00:00\u001b[0m\n",
            "\u001b[?25hDownloading safehttpx-0.1.6-py3-none-any.whl (8.7 kB)\n",
            "Downloading scikit_base-0.12.2-py3-none-any.whl (142 kB)\n",
            "\u001b[2K   \u001b[90m━━━━━━━━━━━━━━━━━━━━━━━━━━━━━━━━━━━━━━━━\u001b[0m \u001b[32m142.7/142.7 kB\u001b[0m \u001b[31m14.0 MB/s\u001b[0m eta \u001b[36m0:00:00\u001b[0m\n",
            "\u001b[?25hDownloading semantic_version-2.10.0-py2.py3-none-any.whl (15 kB)\n",
            "Downloading shtab-1.7.2-py3-none-any.whl (14 kB)\n",
            "Downloading starlette-0.46.2-py3-none-any.whl (72 kB)\n",
            "\u001b[2K   \u001b[90m━━━━━━━━━━━━━━━━━━━━━━━━━━━━━━━━━━━━━━━━\u001b[0m \u001b[32m72.0/72.0 kB\u001b[0m \u001b[31m7.5 MB/s\u001b[0m eta \u001b[36m0:00:00\u001b[0m\n",
            "\u001b[?25hDownloading tomlkit-0.13.2-py3-none-any.whl (37 kB)\n",
            "Downloading uvicorn-0.34.2-py3-none-any.whl (62 kB)\n",
            "\u001b[2K   \u001b[90m━━━━━━━━━━━━━━━━━━━━━━━━━━━━━━━━━━━━━━━━\u001b[0m \u001b[32m62.5/62.5 kB\u001b[0m \u001b[31m5.0 MB/s\u001b[0m eta \u001b[36m0:00:00\u001b[0m\n",
            "\u001b[?25hDownloading coloredlogs-15.0.1-py2.py3-none-any.whl (46 kB)\n",
            "\u001b[2K   \u001b[90m━━━━━━━━━━━━━━━━━━━━━━━━━━━━━━━━━━━━━━━━\u001b[0m \u001b[32m46.0/46.0 kB\u001b[0m \u001b[31m4.2 MB/s\u001b[0m eta \u001b[36m0:00:00\u001b[0m\n",
            "\u001b[?25hDownloading ffmpy-0.5.0-py3-none-any.whl (6.0 kB)\n",
            "Downloading pydub-0.25.1-py2.py3-none-any.whl (32 kB)\n",
            "Downloading humanfriendly-10.0-py2.py3-none-any.whl (86 kB)\n",
            "\u001b[2K   \u001b[90m━━━━━━━━━━━━━━━━━━━━━━━━━━━━━━━━━━━━━━━━\u001b[0m \u001b[32m86.8/86.8 kB\u001b[0m \u001b[31m8.5 MB/s\u001b[0m eta \u001b[36m0:00:00\u001b[0m\n",
            "\u001b[?25hInstalling collected packages: pydub, uvicorn, tomlkit, shtab, semantic-version, scikit-base, ruff, python-multipart, onnx, humanfriendly, groovy, ffmpy, colorama, aiofiles, starlette, pykalman, coloredlogs, tyro, safehttpx, onnxruntime-gpu, onnxruntime, gradio-client, fastapi, gradio\n",
            "Successfully installed aiofiles-24.1.0 colorama-0.4.6 coloredlogs-15.0.1 fastapi-0.115.12 ffmpy-0.5.0 gradio-5.29.1 gradio-client-1.10.1 groovy-0.1.2 humanfriendly-10.0 onnx-1.18.0 onnxruntime-1.22.0 onnxruntime-gpu-1.22.0 pydub-0.25.1 pykalman-0.10.1 python-multipart-0.0.20 ruff-0.11.10 safehttpx-0.1.6 scikit-base-0.12.2 semantic-version-2.10.0 shtab-1.7.2 starlette-0.46.2 tomlkit-0.13.2 tyro-0.9.20 uvicorn-0.34.2\n",
            "The following additional packages will be installed:\n",
            "  libaria2-0 libc-ares2\n",
            "The following NEW packages will be installed:\n",
            "  aria2 libaria2-0 libc-ares2\n",
            "0 upgraded, 3 newly installed, 0 to remove and 34 not upgraded.\n",
            "Need to get 1,513 kB of archives.\n",
            "After this operation, 5,441 kB of additional disk space will be used.\n",
            "Selecting previously unselected package libc-ares2:amd64.\n",
            "(Reading database ... 126102 files and directories currently installed.)\n",
            "Preparing to unpack .../libc-ares2_1.18.1-1ubuntu0.22.04.3_amd64.deb ...\n",
            "Unpacking libc-ares2:amd64 (1.18.1-1ubuntu0.22.04.3) ...\n",
            "Selecting previously unselected package libaria2-0:amd64.\n",
            "Preparing to unpack .../libaria2-0_1.36.0-1_amd64.deb ...\n",
            "Unpacking libaria2-0:amd64 (1.36.0-1) ...\n",
            "Selecting previously unselected package aria2.\n",
            "Preparing to unpack .../aria2_1.36.0-1_amd64.deb ...\n",
            "Unpacking aria2 (1.36.0-1) ...\n",
            "Setting up libc-ares2:amd64 (1.18.1-1ubuntu0.22.04.3) ...\n",
            "Setting up libaria2-0:amd64 (1.36.0-1) ...\n",
            "Setting up aria2 (1.36.0-1) ...\n",
            "Processing triggers for man-db (2.10.2-1) ...\n",
            "Processing triggers for libc-bin (2.35-0ubuntu3.8) ...\n",
            "/sbin/ldconfig.real: /usr/local/lib/libtbbmalloc.so.2 is not a symbolic link\n",
            "\n",
            "/sbin/ldconfig.real: /usr/local/lib/libtcm.so.1 is not a symbolic link\n",
            "\n",
            "/sbin/ldconfig.real: /usr/local/lib/libur_loader.so.0 is not a symbolic link\n",
            "\n",
            "/sbin/ldconfig.real: /usr/local/lib/libtbbbind_2_5.so.3 is not a symbolic link\n",
            "\n",
            "/sbin/ldconfig.real: /usr/local/lib/libumf.so.0 is not a symbolic link\n",
            "\n",
            "/sbin/ldconfig.real: /usr/local/lib/libtbbmalloc_proxy.so.2 is not a symbolic link\n",
            "\n",
            "/sbin/ldconfig.real: /usr/local/lib/libtbbbind_2_0.so.3 is not a symbolic link\n",
            "\n",
            "/sbin/ldconfig.real: /usr/local/lib/libhwloc.so.15 is not a symbolic link\n",
            "\n",
            "/sbin/ldconfig.real: /usr/local/lib/libur_adapter_level_zero.so.0 is not a symbolic link\n",
            "\n",
            "/sbin/ldconfig.real: /usr/local/lib/libtbb.so.12 is not a symbolic link\n",
            "\n",
            "/sbin/ldconfig.real: /usr/local/lib/libtbbbind.so.3 is not a symbolic link\n",
            "\n",
            "/sbin/ldconfig.real: /usr/local/lib/libur_adapter_opencl.so.0 is not a symbolic link\n",
            "\n",
            "/sbin/ldconfig.real: /usr/local/lib/libtcm_debug.so.1 is not a symbolic link\n",
            "\n",
            "\u001b[0m\n",
            "Download Results:\n",
            "gid   |stat|avg speed  |path/URI\n",
            "======+====+===========+=======================================================\n",
            "431844|\u001b[1;32mOK\u001b[0m  |   296MiB/s|/content/JoyVASA/pretrained_weights/JoyVASA/motion_generator/motion_generator_hubert_chinese.pt\n",
            "\n",
            "Status Legend:\n",
            "(OK):download completed.\n",
            "\u001b[0m\n",
            "Download Results:\n",
            "gid   |stat|avg speed  |path/URI\n",
            "======+====+===========+=======================================================\n",
            "a29dd1|\u001b[1;32mOK\u001b[0m  |   383KiB/s|/content/JoyVASA/pretrained_weights/JoyVASA/motion_template/motion_template.pkl\n",
            "\n",
            "Status Legend:\n",
            "(OK):download completed.\n",
            "\u001b[0m\n",
            "Download Results:\n",
            "gid   |stat|avg speed  |path/URI\n",
            "======+====+===========+=======================================================\n",
            "295c3d|\u001b[1;32mOK\u001b[0m  |   258MiB/s|/content/JoyVASA/pretrained_weights/TencentGameMate:chinese-hubert-base/chinese-hubert-base-fairseq-ckpt.pt\n",
            "\n",
            "Status Legend:\n",
            "(OK):download completed.\n",
            "\n",
            "Download Results:\n",
            "gid   |stat|avg speed  |path/URI\n",
            "======+====+===========+=======================================================\n",
            "880314|\u001b[1;32mOK\u001b[0m  |   192KiB/s|/content/JoyVASA/pretrained_weights/TencentGameMate:chinese-hubert-base/config.json\n",
            "\n",
            "Status Legend:\n",
            "(OK):download completed.\n",
            "\n",
            "Download Results:\n",
            "gid   |stat|avg speed  |path/URI\n",
            "======+====+===========+=======================================================\n",
            "eace5e|\u001b[1;32mOK\u001b[0m  |    20KiB/s|/content/JoyVASA/pretrained_weights/TencentGameMate:chinese-hubert-base/preprocessor_config.json\n",
            "\n",
            "Status Legend:\n",
            "(OK):download completed.\n",
            "\u001b[0m\n",
            "Download Results:\n",
            "gid   |stat|avg speed  |path/URI\n",
            "======+====+===========+=======================================================\n",
            "e167e9|\u001b[1;32mOK\u001b[0m  |   163MiB/s|/content/JoyVASA/pretrained_weights/TencentGameMate:chinese-hubert-base/pytorch_model.bin\n",
            "\n",
            "Status Legend:\n",
            "(OK):download completed.\n",
            "\n",
            "Download Results:\n",
            "gid   |stat|avg speed  |path/URI\n",
            "======+====+===========+=======================================================\n",
            "100935|\u001b[1;32mOK\u001b[0m  |    65MiB/s|/content/JoyVASA/pretrained_weights/insightface/models/buffalo_l/2d106det.onnx\n",
            "\n",
            "Status Legend:\n",
            "(OK):download completed.\n",
            "\u001b[0m\n",
            "Download Results:\n",
            "gid   |stat|avg speed  |path/URI\n",
            "======+====+===========+=======================================================\n",
            "d4e2ed|\u001b[1;32mOK\u001b[0m  |    13MiB/s|/content/JoyVASA/pretrained_weights/insightface/models/buffalo_l/det_10g.onnx\n",
            "\n",
            "Status Legend:\n",
            "(OK):download completed.\n",
            "\n",
            "Download Results:\n",
            "gid   |stat|avg speed  |path/URI\n",
            "======+====+===========+=======================================================\n",
            "9a999e|\u001b[1;32mOK\u001b[0m  |   238MiB/s|/content/JoyVASA/pretrained_weights/liveportrait/landmark.onnx\n",
            "\n",
            "Status Legend:\n",
            "(OK):download completed.\n",
            "\n",
            "Download Results:\n",
            "gid   |stat|avg speed  |path/URI\n",
            "======+====+===========+=======================================================\n",
            "8abc13|\u001b[1;32mOK\u001b[0m  |    17MiB/s|/content/JoyVASA/pretrained_weights/liveportrait/retargeting_models/stitching_retargeting_module.pth\n",
            "\n",
            "Status Legend:\n",
            "(OK):download completed.\n",
            "\n",
            "Download Results:\n",
            "gid   |stat|avg speed  |path/URI\n",
            "======+====+===========+=======================================================\n",
            "dcce4c|\u001b[1;32mOK\u001b[0m  |    38MiB/s|/content/JoyVASA/pretrained_weights/liveportrait/base_models/appearance_feature_extractor.pth\n",
            "\n",
            "Status Legend:\n",
            "(OK):download completed.\n",
            "\n",
            "Download Results:\n",
            "gid   |stat|avg speed  |path/URI\n",
            "======+====+===========+=======================================================\n",
            "0f52a8|\u001b[1;32mOK\u001b[0m  |   237MiB/s|/content/JoyVASA/pretrained_weights/liveportrait/base_models/motion_extractor.pth\n",
            "\n",
            "Status Legend:\n",
            "(OK):download completed.\n",
            "\u001b[0m\n",
            "Download Results:\n",
            "gid   |stat|avg speed  |path/URI\n",
            "======+====+===========+=======================================================\n",
            "208e5a|\u001b[1;32mOK\u001b[0m  |   107MiB/s|/content/JoyVASA/pretrained_weights/liveportrait/base_models/spade_generator.pth\n",
            "\n",
            "Status Legend:\n",
            "(OK):download completed.\n",
            "\u001b[0m\n",
            "Download Results:\n",
            "gid   |stat|avg speed  |path/URI\n",
            "======+====+===========+=======================================================\n",
            "f19ee7|\u001b[1;32mOK\u001b[0m  |   265MiB/s|/content/JoyVASA/pretrained_weights/liveportrait/base_models/warping_module.pth\n",
            "\n",
            "Status Legend:\n",
            "(OK):download completed.\n",
            "\u001b[0m\n",
            "Download Results:\n",
            "gid   |stat|avg speed  |path/URI\n",
            "======+====+===========+=======================================================\n",
            "fa532b|\u001b[1;32mOK\u001b[0m  |   278MiB/s|/content/JoyVASA/pretrained_weights/liveportrait_animals/xpose.pth\n",
            "\n",
            "Status Legend:\n",
            "(OK):download completed.\n",
            "\n",
            "Download Results:\n",
            "gid   |stat|avg speed  |path/URI\n",
            "======+====+===========+=======================================================\n",
            "6f9f40|\u001b[1;32mOK\u001b[0m  |    14MiB/s|/content/JoyVASA/pretrained_weights/liveportrait_animals/retargeting_models/stitching_retargeting_module.pth\n",
            "\n",
            "Status Legend:\n",
            "(OK):download completed.\n",
            "\n",
            "Download Results:\n",
            "gid   |stat|avg speed  |path/URI\n",
            "======+====+===========+=======================================================\n",
            "5c5e99|\u001b[1;32mOK\u001b[0m  |    19MiB/s|/content/JoyVASA/pretrained_weights/liveportrait_animals/base_models/appearance_feature_extractor.pth\n",
            "\n",
            "Status Legend:\n",
            "(OK):download completed.\n",
            "\n",
            "Download Results:\n",
            "gid   |stat|avg speed  |path/URI\n",
            "======+====+===========+=======================================================\n",
            "c84a7a|\u001b[1;32mOK\u001b[0m  |   245MiB/s|/content/JoyVASA/pretrained_weights/liveportrait_animals/base_models/motion_extractor.pth\n",
            "\n",
            "Status Legend:\n",
            "(OK):download completed.\n",
            "\u001b[0m\n",
            "Download Results:\n",
            "gid   |stat|avg speed  |path/URI\n",
            "======+====+===========+=======================================================\n",
            "a33b17|\u001b[1;32mOK\u001b[0m  |   119MiB/s|/content/JoyVASA/pretrained_weights/liveportrait_animals/base_models/spade_generator.pth\n",
            "\n",
            "Status Legend:\n",
            "(OK):download completed.\n",
            "\n",
            "Download Results:\n",
            "gid   |stat|avg speed  |path/URI\n",
            "======+====+===========+=======================================================\n",
            "24699d|\u001b[1;32mOK\u001b[0m  |   226MiB/s|/content/JoyVASA/pretrained_weights/liveportrait_animals/base_models/warping_module.pth\n",
            "\n",
            "Status Legend:\n",
            "(OK):download completed.\n",
            "\n",
            "Download Results:\n",
            "gid   |stat|avg speed  |path/URI\n",
            "======+====+===========+=======================================================\n",
            "5a64cf|\u001b[1;32mOK\u001b[0m  |   194KiB/s|/content/JoyVASA/pretrained_weights/wav2vec2-base-960h/config.json\n",
            "\n",
            "Status Legend:\n",
            "(OK):download completed.\n",
            "\n",
            "Download Results:\n",
            "gid   |stat|avg speed  |path/URI\n",
            "======+====+===========+=======================================================\n",
            "da27cc|\u001b[1;32mOK\u001b[0m  |    22KiB/s|/content/JoyVASA/pretrained_weights/wav2vec2-base-960h/feature_extractor_config.json\n",
            "\n",
            "Status Legend:\n",
            "(OK):download completed.\n",
            "\u001b[0m\n",
            "Download Results:\n",
            "gid   |stat|avg speed  |path/URI\n",
            "======+====+===========+=======================================================\n",
            "80eb42|\u001b[1;32mOK\u001b[0m  |   177MiB/s|/content/JoyVASA/pretrained_weights/wav2vec2-base-960h/model.safetensors\n",
            "\n",
            "Status Legend:\n",
            "(OK):download completed.\n",
            "\n",
            "Download Results:\n",
            "gid   |stat|avg speed  |path/URI\n",
            "======+====+===========+=======================================================\n",
            "92d9d1|\u001b[1;32mOK\u001b[0m  |    22KiB/s|/content/JoyVASA/pretrained_weights/wav2vec2-base-960h/preprocessor_config.json\n",
            "\n",
            "Status Legend:\n",
            "(OK):download completed.\n",
            "\u001b[0m\n",
            "Download Results:\n",
            "gid   |stat|avg speed  |path/URI\n",
            "======+====+===========+=======================================================\n",
            "959ad7|\u001b[1;32mOK\u001b[0m  |   217MiB/s|/content/JoyVASA/pretrained_weights/wav2vec2-base-960h/pytorch_model.bin\n",
            "\n",
            "Status Legend:\n",
            "(OK):download completed.\n",
            "\n",
            "Download Results:\n",
            "gid   |stat|avg speed  |path/URI\n",
            "======+====+===========+=======================================================\n",
            "34454b|\u001b[1;32mOK\u001b[0m  |    11KiB/s|/content/JoyVASA/pretrained_weights/wav2vec2-base-960h/special_tokens_map.json\n",
            "\n",
            "Status Legend:\n",
            "(OK):download completed.\n",
            "\u001b[0m\n",
            "Download Results:\n",
            "gid   |stat|avg speed  |path/URI\n",
            "======+====+===========+=======================================================\n",
            "985901|\u001b[1;32mOK\u001b[0m  |   284MiB/s|/content/JoyVASA/pretrained_weights/wav2vec2-base-960h/tf_model.h5\n",
            "\n",
            "Status Legend:\n",
            "(OK):download completed.\n",
            "\n",
            "Download Results:\n",
            "gid   |stat|avg speed  |path/URI\n",
            "======+====+===========+=======================================================\n",
            "465087|\u001b[1;32mOK\u001b[0m  |    22KiB/s|/content/JoyVASA/pretrained_weights/wav2vec2-base-960h/tokenizer_config.json\n",
            "\n",
            "Status Legend:\n",
            "(OK):download completed.\n",
            "\n",
            "Download Results:\n",
            "gid   |stat|avg speed  |path/URI\n",
            "======+====+===========+=======================================================\n",
            "889696|\u001b[1;32mOK\u001b[0m  |    40KiB/s|/content/JoyVASA/pretrained_weights/wav2vec2-base-960h/vocab.json\n",
            "\n",
            "Status Legend:\n",
            "(OK):download completed.\n",
            "/content/JoyVASA/src/utils/dependencies/XPose/models/UniPose/ops\n",
            "running build\n",
            "running build_py\n",
            "creating build/lib.linux-x86_64-cpython-311/functions\n",
            "copying functions/ms_deform_attn_func.py -> build/lib.linux-x86_64-cpython-311/functions\n",
            "copying functions/__init__.py -> build/lib.linux-x86_64-cpython-311/functions\n",
            "creating build/lib.linux-x86_64-cpython-311/modules\n",
            "copying modules/ms_deform_attn.py -> build/lib.linux-x86_64-cpython-311/modules\n",
            "copying modules/ms_deform_attn_key_aware.py -> build/lib.linux-x86_64-cpython-311/modules\n",
            "copying modules/__init__.py -> build/lib.linux-x86_64-cpython-311/modules\n",
            "running build_ext\n",
            "/usr/local/lib/python3.11/dist-packages/torch/utils/cpp_extension.py:448: UserWarning: The detected CUDA version (12.5) has a minor version mismatch with the version that was used to compile PyTorch (12.4). Most likely this shouldn't be a problem.\n",
            "  warnings.warn(CUDA_MISMATCH_WARN.format(cuda_str_version, torch.version.cuda))\n",
            "/usr/local/lib/python3.11/dist-packages/torch/utils/cpp_extension.py:458: UserWarning: There are no x86_64-linux-gnu-g++ version bounds defined for CUDA version 12.5\n",
            "  warnings.warn(f'There are no {compiler_name} version bounds defined for CUDA version {cuda_str_version}')\n",
            "building 'MultiScaleDeformableAttention' extension\n",
            "creating /content/JoyVASA/src/utils/dependencies/XPose/models/UniPose/ops/build/temp.linux-x86_64-cpython-311/content/JoyVASA/src/utils/dependencies/XPose/models/UniPose/ops/src/cpu\n",
            "creating /content/JoyVASA/src/utils/dependencies/XPose/models/UniPose/ops/build/temp.linux-x86_64-cpython-311/content/JoyVASA/src/utils/dependencies/XPose/models/UniPose/ops/src/cuda\n",
            "Emitting ninja build file /content/JoyVASA/src/utils/dependencies/XPose/models/UniPose/ops/build/temp.linux-x86_64-cpython-311/build.ninja...\n",
            "Compiling objects...\n",
            "Allowing ninja to set a default number of workers... (overridable by setting the environment variable MAX_JOBS=N)\n",
            "[1/3] c++ -MMD -MF /content/JoyVASA/src/utils/dependencies/XPose/models/UniPose/ops/build/temp.linux-x86_64-cpython-311/content/JoyVASA/src/utils/dependencies/XPose/models/UniPose/ops/src/cpu/ms_deform_attn_cpu.o.d -Wsign-compare -DNDEBUG -g -fwrapv -O2 -Wall -g -fstack-protector-strong -Wformat -Werror=format-security -g -fwrapv -O2 -fPIC -DWITH_CUDA -I/content/JoyVASA/src/utils/dependencies/XPose/models/UniPose/ops/src -I/usr/local/lib/python3.11/dist-packages/torch/include -I/usr/local/lib/python3.11/dist-packages/torch/include/torch/csrc/api/include -I/usr/local/lib/python3.11/dist-packages/torch/include/TH -I/usr/local/lib/python3.11/dist-packages/torch/include/THC -I/usr/local/cuda/include -I/usr/include/python3.11 -c -c /content/JoyVASA/src/utils/dependencies/XPose/models/UniPose/ops/src/cpu/ms_deform_attn_cpu.cpp -o /content/JoyVASA/src/utils/dependencies/XPose/models/UniPose/ops/build/temp.linux-x86_64-cpython-311/content/JoyVASA/src/utils/dependencies/XPose/models/UniPose/ops/src/cpu/ms_deform_attn_cpu.o -DTORCH_API_INCLUDE_EXTENSION_H '-DPYBIND11_COMPILER_TYPE=\"_gcc\"' '-DPYBIND11_STDLIB=\"_libstdcpp\"' '-DPYBIND11_BUILD_ABI=\"_cxxabi1011\"' -DTORCH_EXTENSION_NAME=MultiScaleDeformableAttention -D_GLIBCXX_USE_CXX11_ABI=0 -std=c++17\n",
            "[2/3] /usr/local/cuda/bin/nvcc --generate-dependencies-with-compile --dependency-output /content/JoyVASA/src/utils/dependencies/XPose/models/UniPose/ops/build/temp.linux-x86_64-cpython-311/content/JoyVASA/src/utils/dependencies/XPose/models/UniPose/ops/src/cuda/ms_deform_attn_cuda.o.d -DWITH_CUDA -I/content/JoyVASA/src/utils/dependencies/XPose/models/UniPose/ops/src -I/usr/local/lib/python3.11/dist-packages/torch/include -I/usr/local/lib/python3.11/dist-packages/torch/include/torch/csrc/api/include -I/usr/local/lib/python3.11/dist-packages/torch/include/TH -I/usr/local/lib/python3.11/dist-packages/torch/include/THC -I/usr/local/cuda/include -I/usr/include/python3.11 -c -c /content/JoyVASA/src/utils/dependencies/XPose/models/UniPose/ops/src/cuda/ms_deform_attn_cuda.cu -o /content/JoyVASA/src/utils/dependencies/XPose/models/UniPose/ops/build/temp.linux-x86_64-cpython-311/content/JoyVASA/src/utils/dependencies/XPose/models/UniPose/ops/src/cuda/ms_deform_attn_cuda.o -D__CUDA_NO_HALF_OPERATORS__ -D__CUDA_NO_HALF_CONVERSIONS__ -D__CUDA_NO_BFLOAT16_CONVERSIONS__ -D__CUDA_NO_HALF2_OPERATORS__ --expt-relaxed-constexpr --compiler-options ''\"'\"'-fPIC'\"'\"'' -DCUDA_HAS_FP16=1 -D__CUDA_NO_HALF_OPERATORS__ -D__CUDA_NO_HALF_CONVERSIONS__ -D__CUDA_NO_HALF2_OPERATORS__ -DTORCH_API_INCLUDE_EXTENSION_H '-DPYBIND11_COMPILER_TYPE=\"_gcc\"' '-DPYBIND11_STDLIB=\"_libstdcpp\"' '-DPYBIND11_BUILD_ABI=\"_cxxabi1011\"' -DTORCH_EXTENSION_NAME=MultiScaleDeformableAttention -D_GLIBCXX_USE_CXX11_ABI=0 -gencode=arch=compute_80,code=sm_80 -std=c++17\n",
            "/content/JoyVASA/src/utils/dependencies/XPose/models/UniPose/ops/src/cuda/ms_deform_im2col_cuda.cuh(261): warning #177-D: variable \"q_col\" was declared but never referenced\n",
            "      const int q_col = _temp % num_query;\n",
            "                ^\n",
            "          detected during instantiation of \"void ms_deformable_im2col_cuda(cudaStream_t, const scalar_t *, const int64_t *, const int64_t *, const scalar_t *, const scalar_t *, int, int, int, int, int, int, int, scalar_t *) [with scalar_t=double]\" at line 54 of /content/JoyVASA/src/utils/dependencies/XPose/models/UniPose/ops/src/cuda/ms_deform_attn_cuda.cu\n",
            "\n",
            "Remark: The warnings can be suppressed with \"-diag-suppress <warning-number>\"\n",
            "\n",
            "/content/JoyVASA/src/utils/dependencies/XPose/models/UniPose/ops/src/cuda/ms_deform_im2col_cuda.cuh(762): warning #177-D: variable \"q_col\" was declared but never referenced\n",
            "      const int q_col = _temp % num_query;\n",
            "                ^\n",
            "          detected during instantiation of \"void ms_deformable_col2im_cuda(cudaStream_t, const scalar_t *, const scalar_t *, const int64_t *, const int64_t *, const scalar_t *, const scalar_t *, int, int, int, int, int, int, int, scalar_t *, scalar_t *, scalar_t *) [with scalar_t=double]\" at line 120 of /content/JoyVASA/src/utils/dependencies/XPose/models/UniPose/ops/src/cuda/ms_deform_attn_cuda.cu\n",
            "\n",
            "/content/JoyVASA/src/utils/dependencies/XPose/models/UniPose/ops/src/cuda/ms_deform_im2col_cuda.cuh(872): warning #177-D: variable \"q_col\" was declared but never referenced\n",
            "      const int q_col = _temp % num_query;\n",
            "                ^\n",
            "          detected during instantiation of \"void ms_deformable_col2im_cuda(cudaStream_t, const scalar_t *, const scalar_t *, const int64_t *, const int64_t *, const scalar_t *, const scalar_t *, int, int, int, int, int, int, int, scalar_t *, scalar_t *, scalar_t *) [with scalar_t=double]\" at line 120 of /content/JoyVASA/src/utils/dependencies/XPose/models/UniPose/ops/src/cuda/ms_deform_attn_cuda.cu\n",
            "\n",
            "/content/JoyVASA/src/utils/dependencies/XPose/models/UniPose/ops/src/cuda/ms_deform_im2col_cuda.cuh(331): warning #177-D: variable \"q_col\" was declared but never referenced\n",
            "      const int q_col = _temp % num_query;\n",
            "                ^\n",
            "          detected during instantiation of \"void ms_deformable_col2im_cuda(cudaStream_t, const scalar_t *, const scalar_t *, const int64_t *, const int64_t *, const scalar_t *, const scalar_t *, int, int, int, int, int, int, int, scalar_t *, scalar_t *, scalar_t *) [with scalar_t=double]\" at line 120 of /content/JoyVASA/src/utils/dependencies/XPose/models/UniPose/ops/src/cuda/ms_deform_attn_cuda.cu\n",
            "\n",
            "/content/JoyVASA/src/utils/dependencies/XPose/models/UniPose/ops/src/cuda/ms_deform_im2col_cuda.cuh(436): warning #177-D: variable \"q_col\" was declared but never referenced\n",
            "      const int q_col = _temp % num_query;\n",
            "                ^\n",
            "          detected during instantiation of \"void ms_deformable_col2im_cuda(cudaStream_t, const scalar_t *, const scalar_t *, const int64_t *, const int64_t *, const scalar_t *, const scalar_t *, int, int, int, int, int, int, int, scalar_t *, scalar_t *, scalar_t *) [with scalar_t=double]\" at line 120 of /content/JoyVASA/src/utils/dependencies/XPose/models/UniPose/ops/src/cuda/ms_deform_attn_cuda.cu\n",
            "\n",
            "/content/JoyVASA/src/utils/dependencies/XPose/models/UniPose/ops/src/cuda/ms_deform_im2col_cuda.cuh(544): warning #177-D: variable \"q_col\" was declared but never referenced\n",
            "      const int q_col = _temp % num_query;\n",
            "                ^\n",
            "          detected during instantiation of \"void ms_deformable_col2im_cuda(cudaStream_t, const scalar_t *, const scalar_t *, const int64_t *, const int64_t *, const scalar_t *, const scalar_t *, int, int, int, int, int, int, int, scalar_t *, scalar_t *, scalar_t *) [with scalar_t=double]\" at line 120 of /content/JoyVASA/src/utils/dependencies/XPose/models/UniPose/ops/src/cuda/ms_deform_attn_cuda.cu\n",
            "\n",
            "/content/JoyVASA/src/utils/dependencies/XPose/models/UniPose/ops/src/cuda/ms_deform_im2col_cuda.cuh(649): warning #177-D: variable \"q_col\" was declared but never referenced\n",
            "      const int q_col = _temp % num_query;\n",
            "                ^\n",
            "          detected during instantiation of \"void ms_deformable_col2im_cuda(cudaStream_t, const scalar_t *, const scalar_t *, const int64_t *, const int64_t *, const scalar_t *, const scalar_t *, int, int, int, int, int, int, int, scalar_t *, scalar_t *, scalar_t *) [with scalar_t=double]\" at line 120 of /content/JoyVASA/src/utils/dependencies/XPose/models/UniPose/ops/src/cuda/ms_deform_attn_cuda.cu\n",
            "\n",
            "[3/3] c++ -MMD -MF /content/JoyVASA/src/utils/dependencies/XPose/models/UniPose/ops/build/temp.linux-x86_64-cpython-311/content/JoyVASA/src/utils/dependencies/XPose/models/UniPose/ops/src/vision.o.d -Wsign-compare -DNDEBUG -g -fwrapv -O2 -Wall -g -fstack-protector-strong -Wformat -Werror=format-security -g -fwrapv -O2 -fPIC -DWITH_CUDA -I/content/JoyVASA/src/utils/dependencies/XPose/models/UniPose/ops/src -I/usr/local/lib/python3.11/dist-packages/torch/include -I/usr/local/lib/python3.11/dist-packages/torch/include/torch/csrc/api/include -I/usr/local/lib/python3.11/dist-packages/torch/include/TH -I/usr/local/lib/python3.11/dist-packages/torch/include/THC -I/usr/local/cuda/include -I/usr/include/python3.11 -c -c /content/JoyVASA/src/utils/dependencies/XPose/models/UniPose/ops/src/vision.cpp -o /content/JoyVASA/src/utils/dependencies/XPose/models/UniPose/ops/build/temp.linux-x86_64-cpython-311/content/JoyVASA/src/utils/dependencies/XPose/models/UniPose/ops/src/vision.o -DTORCH_API_INCLUDE_EXTENSION_H '-DPYBIND11_COMPILER_TYPE=\"_gcc\"' '-DPYBIND11_STDLIB=\"_libstdcpp\"' '-DPYBIND11_BUILD_ABI=\"_cxxabi1011\"' -DTORCH_EXTENSION_NAME=MultiScaleDeformableAttention -D_GLIBCXX_USE_CXX11_ABI=0 -std=c++17\n",
            "In file included from /content/JoyVASA/src/utils/dependencies/XPose/models/UniPose/ops/src/vision.cpp:11:\n",
            "/content/JoyVASA/src/utils/dependencies/XPose/models/UniPose/ops/src/ms_deform_attn.h: In function ‘at::Tensor ms_deform_attn_forward(const at::Tensor&, const at::Tensor&, const at::Tensor&, const at::Tensor&, const at::Tensor&, int)’:\n",
            "/content/JoyVASA/src/utils/dependencies/XPose/models/UniPose/ops/src/ms_deform_attn.h:29:19: warning: ‘at::DeprecatedTypeProperties& at::Tensor::type() const’ is deprecated: Tensor.type() is deprecated. Instead use Tensor.options(), which in many cases (e.g. in a constructor) is a drop-in replacement. If you were using data from type(), that is now available from Tensor itself, so instead of tensor.type().scalar_type(), use tensor.scalar_type() instead and instead of tensor.type().backend() use tensor.device(). [-Wdeprecated-declarations]\n",
            "   29 |     if (value.type().is_cuda())\n",
            "      |         ~~~~~~~~~~^~\n",
            "In file included from /usr/local/lib/python3.11/dist-packages/torch/include/ATen/core/Tensor.h:3,\n",
            "                 from /usr/local/lib/python3.11/dist-packages/torch/include/ATen/Tensor.h:3,\n",
            "                 from /usr/local/lib/python3.11/dist-packages/torch/include/torch/csrc/autograd/function_hook.h:3,\n",
            "                 from /usr/local/lib/python3.11/dist-packages/torch/include/torch/csrc/autograd/cpp_hook.h:2,\n",
            "                 from /usr/local/lib/python3.11/dist-packages/torch/include/torch/csrc/autograd/variable.h:6,\n",
            "                 from /usr/local/lib/python3.11/dist-packages/torch/include/torch/csrc/autograd/autograd.h:3,\n",
            "                 from /usr/local/lib/python3.11/dist-packages/torch/include/torch/csrc/api/include/torch/autograd.h:3,\n",
            "                 from /usr/local/lib/python3.11/dist-packages/torch/include/torch/csrc/api/include/torch/all.h:7,\n",
            "                 from /usr/local/lib/python3.11/dist-packages/torch/include/torch/extension.h:5,\n",
            "                 from /content/JoyVASA/src/utils/dependencies/XPose/models/UniPose/ops/src/cpu/ms_deform_attn_cpu.h:12,\n",
            "                 from /content/JoyVASA/src/utils/dependencies/XPose/models/UniPose/ops/src/ms_deform_attn.h:13,\n",
            "                 from /content/JoyVASA/src/utils/dependencies/XPose/models/UniPose/ops/src/vision.cpp:11:\n",
            "/usr/local/lib/python3.11/dist-packages/torch/include/ATen/core/TensorBody.h:225:30: note: declared here\n",
            "  225 |   DeprecatedTypeProperties & type() const {\n",
            "      |                              ^~~~\n",
            "In file included from /content/JoyVASA/src/utils/dependencies/XPose/models/UniPose/ops/src/vision.cpp:11:\n",
            "/content/JoyVASA/src/utils/dependencies/XPose/models/UniPose/ops/src/ms_deform_attn.h: In function ‘std::vector<at::Tensor> ms_deform_attn_backward(const at::Tensor&, const at::Tensor&, const at::Tensor&, const at::Tensor&, const at::Tensor&, const at::Tensor&, int)’:\n",
            "/content/JoyVASA/src/utils/dependencies/XPose/models/UniPose/ops/src/ms_deform_attn.h:51:19: warning: ‘at::DeprecatedTypeProperties& at::Tensor::type() const’ is deprecated: Tensor.type() is deprecated. Instead use Tensor.options(), which in many cases (e.g. in a constructor) is a drop-in replacement. If you were using data from type(), that is now available from Tensor itself, so instead of tensor.type().scalar_type(), use tensor.scalar_type() instead and instead of tensor.type().backend() use tensor.device(). [-Wdeprecated-declarations]\n",
            "   51 |     if (value.type().is_cuda())\n",
            "      |         ~~~~~~~~~~^~\n",
            "In file included from /usr/local/lib/python3.11/dist-packages/torch/include/ATen/core/Tensor.h:3,\n",
            "                 from /usr/local/lib/python3.11/dist-packages/torch/include/ATen/Tensor.h:3,\n",
            "                 from /usr/local/lib/python3.11/dist-packages/torch/include/torch/csrc/autograd/function_hook.h:3,\n",
            "                 from /usr/local/lib/python3.11/dist-packages/torch/include/torch/csrc/autograd/cpp_hook.h:2,\n",
            "                 from /usr/local/lib/python3.11/dist-packages/torch/include/torch/csrc/autograd/variable.h:6,\n",
            "                 from /usr/local/lib/python3.11/dist-packages/torch/include/torch/csrc/autograd/autograd.h:3,\n",
            "                 from /usr/local/lib/python3.11/dist-packages/torch/include/torch/csrc/api/include/torch/autograd.h:3,\n",
            "                 from /usr/local/lib/python3.11/dist-packages/torch/include/torch/csrc/api/include/torch/all.h:7,\n",
            "                 from /usr/local/lib/python3.11/dist-packages/torch/include/torch/extension.h:5,\n",
            "                 from /content/JoyVASA/src/utils/dependencies/XPose/models/UniPose/ops/src/cpu/ms_deform_attn_cpu.h:12,\n",
            "                 from /content/JoyVASA/src/utils/dependencies/XPose/models/UniPose/ops/src/ms_deform_attn.h:13,\n",
            "                 from /content/JoyVASA/src/utils/dependencies/XPose/models/UniPose/ops/src/vision.cpp:11:\n",
            "/usr/local/lib/python3.11/dist-packages/torch/include/ATen/core/TensorBody.h:225:30: note: declared here\n",
            "  225 |   DeprecatedTypeProperties & type() const {\n",
            "      |                              ^~~~\n",
            "x86_64-linux-gnu-g++ -Wsign-compare -DNDEBUG -g -fwrapv -O2 -Wall -g -fstack-protector-strong -Wformat -Werror=format-security -g -fwrapv -O2 -shared -Wl,-O1 -Wl,-Bsymbolic-functions /content/JoyVASA/src/utils/dependencies/XPose/models/UniPose/ops/build/temp.linux-x86_64-cpython-311/content/JoyVASA/src/utils/dependencies/XPose/models/UniPose/ops/src/cpu/ms_deform_attn_cpu.o /content/JoyVASA/src/utils/dependencies/XPose/models/UniPose/ops/build/temp.linux-x86_64-cpython-311/content/JoyVASA/src/utils/dependencies/XPose/models/UniPose/ops/src/cuda/ms_deform_attn_cuda.o /content/JoyVASA/src/utils/dependencies/XPose/models/UniPose/ops/build/temp.linux-x86_64-cpython-311/content/JoyVASA/src/utils/dependencies/XPose/models/UniPose/ops/src/vision.o -L/usr/local/lib/python3.11/dist-packages/torch/lib -L/usr/local/cuda/lib64 -L/usr/lib/x86_64-linux-gnu -lc10 -ltorch -ltorch_cpu -ltorch_python -lcudart -lc10_cuda -ltorch_cuda -o build/lib.linux-x86_64-cpython-311/MultiScaleDeformableAttention.cpython-311-x86_64-linux-gnu.so\n",
            "running install\n",
            "/usr/local/lib/python3.11/dist-packages/setuptools/_distutils/cmd.py:66: SetuptoolsDeprecationWarning: setup.py install is deprecated.\n",
            "!!\n",
            "\n",
            "        ********************************************************************************\n",
            "        Please avoid running ``setup.py`` directly.\n",
            "        Instead, use pypa/build, pypa/installer or other\n",
            "        standards-based tools.\n",
            "\n",
            "        See https://blog.ganssle.io/articles/2021/10/setup-py-deprecated.html for details.\n",
            "        ********************************************************************************\n",
            "\n",
            "!!\n",
            "  self.initialize_options()\n",
            "/usr/local/lib/python3.11/dist-packages/setuptools/_distutils/cmd.py:66: EasyInstallDeprecationWarning: easy_install command is deprecated.\n",
            "!!\n",
            "\n",
            "        ********************************************************************************\n",
            "        Please avoid running ``setup.py`` and ``easy_install``.\n",
            "        Instead, use pypa/build, pypa/installer or other\n",
            "        standards-based tools.\n",
            "\n",
            "        See https://github.com/pypa/setuptools/issues/917 for details.\n",
            "        ********************************************************************************\n",
            "\n",
            "!!\n",
            "  self.initialize_options()\n",
            "running bdist_egg\n",
            "running egg_info\n",
            "creating MultiScaleDeformableAttention.egg-info\n",
            "writing MultiScaleDeformableAttention.egg-info/PKG-INFO\n",
            "writing dependency_links to MultiScaleDeformableAttention.egg-info/dependency_links.txt\n",
            "writing top-level names to MultiScaleDeformableAttention.egg-info/top_level.txt\n",
            "writing manifest file 'MultiScaleDeformableAttention.egg-info/SOURCES.txt'\n",
            "reading manifest file 'MultiScaleDeformableAttention.egg-info/SOURCES.txt'\n",
            "writing manifest file 'MultiScaleDeformableAttention.egg-info/SOURCES.txt'\n",
            "installing library code to build/bdist.linux-x86_64/egg\n",
            "running install_lib\n",
            "creating build/bdist.linux-x86_64/egg\n",
            "creating build/bdist.linux-x86_64/egg/functions\n",
            "copying build/lib.linux-x86_64-cpython-311/functions/ms_deform_attn_func.py -> build/bdist.linux-x86_64/egg/functions\n",
            "copying build/lib.linux-x86_64-cpython-311/functions/__init__.py -> build/bdist.linux-x86_64/egg/functions\n",
            "copying build/lib.linux-x86_64-cpython-311/MultiScaleDeformableAttention.cpython-311-x86_64-linux-gnu.so -> build/bdist.linux-x86_64/egg\n",
            "creating build/bdist.linux-x86_64/egg/modules\n",
            "copying build/lib.linux-x86_64-cpython-311/modules/ms_deform_attn.py -> build/bdist.linux-x86_64/egg/modules\n",
            "copying build/lib.linux-x86_64-cpython-311/modules/ms_deform_attn_key_aware.py -> build/bdist.linux-x86_64/egg/modules\n",
            "copying build/lib.linux-x86_64-cpython-311/modules/__init__.py -> build/bdist.linux-x86_64/egg/modules\n",
            "byte-compiling build/bdist.linux-x86_64/egg/functions/ms_deform_attn_func.py to ms_deform_attn_func.cpython-311.pyc\n",
            "byte-compiling build/bdist.linux-x86_64/egg/functions/__init__.py to __init__.cpython-311.pyc\n",
            "byte-compiling build/bdist.linux-x86_64/egg/modules/ms_deform_attn.py to ms_deform_attn.cpython-311.pyc\n",
            "byte-compiling build/bdist.linux-x86_64/egg/modules/ms_deform_attn_key_aware.py to ms_deform_attn_key_aware.cpython-311.pyc\n",
            "byte-compiling build/bdist.linux-x86_64/egg/modules/__init__.py to __init__.cpython-311.pyc\n",
            "creating stub loader for MultiScaleDeformableAttention.cpython-311-x86_64-linux-gnu.so\n",
            "byte-compiling build/bdist.linux-x86_64/egg/MultiScaleDeformableAttention.py to MultiScaleDeformableAttention.cpython-311.pyc\n",
            "creating build/bdist.linux-x86_64/egg/EGG-INFO\n",
            "copying MultiScaleDeformableAttention.egg-info/PKG-INFO -> build/bdist.linux-x86_64/egg/EGG-INFO\n",
            "copying MultiScaleDeformableAttention.egg-info/SOURCES.txt -> build/bdist.linux-x86_64/egg/EGG-INFO\n",
            "copying MultiScaleDeformableAttention.egg-info/dependency_links.txt -> build/bdist.linux-x86_64/egg/EGG-INFO\n",
            "copying MultiScaleDeformableAttention.egg-info/top_level.txt -> build/bdist.linux-x86_64/egg/EGG-INFO\n",
            "writing build/bdist.linux-x86_64/egg/EGG-INFO/native_libs.txt\n",
            "zip_safe flag not set; analyzing archive contents...\n",
            "__pycache__.MultiScaleDeformableAttention.cpython-311: module references __file__\n",
            "modules.__pycache__.ms_deform_attn.cpython-311: module references __file__\n",
            "creating dist\n",
            "creating 'dist/MultiScaleDeformableAttention-1.0-py3.11-linux-x86_64.egg' and adding 'build/bdist.linux-x86_64/egg' to it\n",
            "removing 'build/bdist.linux-x86_64/egg' (and everything under it)\n",
            "Processing MultiScaleDeformableAttention-1.0-py3.11-linux-x86_64.egg\n",
            "creating /usr/local/lib/python3.11/dist-packages/MultiScaleDeformableAttention-1.0-py3.11-linux-x86_64.egg\n",
            "Extracting MultiScaleDeformableAttention-1.0-py3.11-linux-x86_64.egg to /usr/local/lib/python3.11/dist-packages\n",
            "Adding MultiScaleDeformableAttention 1.0 to easy-install.pth file\n",
            "\n",
            "Installed /usr/local/lib/python3.11/dist-packages/MultiScaleDeformableAttention-1.0-py3.11-linux-x86_64.egg\n",
            "Processing dependencies for MultiScaleDeformableAttention==1.0\n",
            "Finished processing dependencies for MultiScaleDeformableAttention==1.0\n"
          ]
        }
      ],
      "source": [
        "%cd /content\n",
        "!git clone https://github.com/bhanu-dev82/JoyVASA.git\n",
        "!pip install tyro gradio onnx onnxruntime onnxruntime-gpu pykalman colorama\n",
        "\n",
        "!apt install aria2 -qqy\n",
        "!aria2c --console-log-level=error -c -x 16 -s 16 -k 1M https://huggingface.co/camenduru/JoyVASA/resolve/main/JoyVASA/motion_generator/motion_generator_hubert_chinese.pt -d /content/JoyVASA/pretrained_weights/JoyVASA/motion_generator -o motion_generator_hubert_chinese.pt\n",
        "!aria2c --console-log-level=error -c -x 16 -s 16 -k 1M https://huggingface.co/camenduru/JoyVASA/resolve/main/JoyVASA/motion_template/motion_template.pkl -d /content/JoyVASA/pretrained_weights/JoyVASA/motion_template -o motion_template.pkl\n",
        "!aria2c --console-log-level=error -c -x 16 -s 16 -k 1M https://huggingface.co/camenduru/JoyVASA/resolve/main/TencentGameMate%3Achinese-hubert-base/chinese-hubert-base-fairseq-ckpt.pt -d /content/JoyVASA/pretrained_weights/TencentGameMate:chinese-hubert-base -o chinese-hubert-base-fairseq-ckpt.pt\n",
        "!aria2c --console-log-level=error -c -x 16 -s 16 -k 1M https://huggingface.co/camenduru/JoyVASA/raw/main/TencentGameMate%3Achinese-hubert-base/config.json -d /content/JoyVASA/pretrained_weights/TencentGameMate:chinese-hubert-base -o config.json\n",
        "!aria2c --console-log-level=error -c -x 16 -s 16 -k 1M https://huggingface.co/camenduru/JoyVASA/raw/main/TencentGameMate%3Achinese-hubert-base/preprocessor_config.json -d /content/JoyVASA/pretrained_weights/TencentGameMate:chinese-hubert-base -o preprocessor_config.json\n",
        "!aria2c --console-log-level=error -c -x 16 -s 16 -k 1M https://huggingface.co/camenduru/JoyVASA/resolve/main/TencentGameMate%3Achinese-hubert-base/pytorch_model.bin -d /content/JoyVASA/pretrained_weights/TencentGameMate:chinese-hubert-base -o pytorch_model.bin\n",
        "!aria2c --console-log-level=error -c -x 16 -s 16 -k 1M https://huggingface.co/camenduru/JoyVASA/resolve/main/insightface/models/buffalo_l/2d106det.onnx -d /content/JoyVASA/pretrained_weights/insightface/models/buffalo_l -o 2d106det.onnx\n",
        "!aria2c --console-log-level=error -c -x 16 -s 16 -k 1M https://huggingface.co/camenduru/JoyVASA/resolve/main/insightface/models/buffalo_l/det_10g.onnx -d /content/JoyVASA/pretrained_weights/insightface/models/buffalo_l -o det_10g.onnx\n",
        "!aria2c --console-log-level=error -c -x 16 -s 16 -k 1M https://huggingface.co/camenduru/JoyVASA/resolve/main/liveportrait/landmark.onnx -d /content/JoyVASA/pretrained_weights/liveportrait -o landmark.onnx\n",
        "!aria2c --console-log-level=error -c -x 16 -s 16 -k 1M https://huggingface.co/camenduru/JoyVASA/resolve/main/liveportrait/retargeting_models/stitching_retargeting_module.pth -d /content/JoyVASA/pretrained_weights/liveportrait/retargeting_models -o stitching_retargeting_module.pth\n",
        "!aria2c --console-log-level=error -c -x 16 -s 16 -k 1M https://huggingface.co/camenduru/JoyVASA/resolve/main/liveportrait/base_models/appearance_feature_extractor.pth -d /content/JoyVASA/pretrained_weights/liveportrait/base_models -o appearance_feature_extractor.pth\n",
        "!aria2c --console-log-level=error -c -x 16 -s 16 -k 1M https://huggingface.co/camenduru/JoyVASA/resolve/main/liveportrait/base_models/motion_extractor.pth -d /content/JoyVASA/pretrained_weights/liveportrait/base_models -o motion_extractor.pth\n",
        "!aria2c --console-log-level=error -c -x 16 -s 16 -k 1M https://huggingface.co/camenduru/JoyVASA/resolve/main/liveportrait/base_models/spade_generator.pth -d /content/JoyVASA/pretrained_weights/liveportrait/base_models -o spade_generator.pth\n",
        "!aria2c --console-log-level=error -c -x 16 -s 16 -k 1M https://huggingface.co/camenduru/JoyVASA/resolve/main/liveportrait/base_models/warping_module.pth -d /content/JoyVASA/pretrained_weights/liveportrait/base_models -o warping_module.pth\n",
        "!aria2c --console-log-level=error -c -x 16 -s 16 -k 1M https://huggingface.co/camenduru/JoyVASA/resolve/main/liveportrait_animals/xpose.pth -d /content/JoyVASA/pretrained_weights/liveportrait_animals -o xpose.pth\n",
        "!aria2c --console-log-level=error -c -x 16 -s 16 -k 1M https://huggingface.co/camenduru/JoyVASA/resolve/main/liveportrait_animals/retargeting_models/stitching_retargeting_module.pth -d /content/JoyVASA/pretrained_weights/liveportrait_animals/retargeting_models -o stitching_retargeting_module.pth\n",
        "!aria2c --console-log-level=error -c -x 16 -s 16 -k 1M https://huggingface.co/camenduru/JoyVASA/resolve/main/liveportrait_animals/base_models/appearance_feature_extractor.pth -d /content/JoyVASA/pretrained_weights/liveportrait_animals/base_models -o appearance_feature_extractor.pth\n",
        "!aria2c --console-log-level=error -c -x 16 -s 16 -k 1M https://huggingface.co/camenduru/JoyVASA/resolve/main/liveportrait_animals/base_models/motion_extractor.pth -d /content/JoyVASA/pretrained_weights/liveportrait_animals/base_models -o motion_extractor.pth\n",
        "!aria2c --console-log-level=error -c -x 16 -s 16 -k 1M https://huggingface.co/camenduru/JoyVASA/resolve/main/liveportrait_animals/base_models/spade_generator.pth -d /content/JoyVASA/pretrained_weights/liveportrait_animals/base_models -o spade_generator.pth\n",
        "!aria2c --console-log-level=error -c -x 16 -s 16 -k 1M https://huggingface.co/camenduru/JoyVASA/resolve/main/liveportrait_animals/base_models/warping_module.pth -d /content/JoyVASA/pretrained_weights/liveportrait_animals/base_models -o warping_module.pth\n",
        "!aria2c --console-log-level=error -c -x 16 -s 16 -k 1M https://huggingface.co/camenduru/JoyVASA/raw/main/wav2vec2-base-960h/config.json -d /content/JoyVASA/pretrained_weights/wav2vec2-base-960h -o config.json\n",
        "!aria2c --console-log-level=error -c -x 16 -s 16 -k 1M https://huggingface.co/camenduru/JoyVASA/raw/main/wav2vec2-base-960h/feature_extractor_config.json -d /content/JoyVASA/pretrained_weights/wav2vec2-base-960h -o feature_extractor_config.json\n",
        "!aria2c --console-log-level=error -c -x 16 -s 16 -k 1M https://huggingface.co/camenduru/JoyVASA/resolve/main/wav2vec2-base-960h/model.safetensors -d /content/JoyVASA/pretrained_weights/wav2vec2-base-960h -o model.safetensors\n",
        "!aria2c --console-log-level=error -c -x 16 -s 16 -k 1M https://huggingface.co/camenduru/JoyVASA/raw/main/wav2vec2-base-960h/preprocessor_config.json -d /content/JoyVASA/pretrained_weights/wav2vec2-base-960h -o preprocessor_config.json\n",
        "!aria2c --console-log-level=error -c -x 16 -s 16 -k 1M https://huggingface.co/camenduru/JoyVASA/resolve/main/wav2vec2-base-960h/pytorch_model.bin -d /content/JoyVASA/pretrained_weights/wav2vec2-base-960h -o pytorch_model.bin\n",
        "!aria2c --console-log-level=error -c -x 16 -s 16 -k 1M https://huggingface.co/camenduru/JoyVASA/raw/main/wav2vec2-base-960h/special_tokens_map.json -d /content/JoyVASA/pretrained_weights/wav2vec2-base-960h -o special_tokens_map.json\n",
        "!aria2c --console-log-level=error -c -x 16 -s 16 -k 1M https://huggingface.co/camenduru/JoyVASA/resolve/main/wav2vec2-base-960h/tf_model.h5 -d /content/JoyVASA/pretrained_weights/wav2vec2-base-960h -o tf_model.h5\n",
        "!aria2c --console-log-level=error -c -x 16 -s 16 -k 1M https://huggingface.co/camenduru/JoyVASA/raw/main/wav2vec2-base-960h/tokenizer_config.json -d /content/JoyVASA/pretrained_weights/wav2vec2-base-960h -o tokenizer_config.json\n",
        "!aria2c --console-log-level=error -c -x 16 -s 16 -k 1M https://huggingface.co/camenduru/JoyVASA/raw/main/wav2vec2-base-960h/vocab.json -d /content/JoyVASA/pretrained_weights/wav2vec2-base-960h -o vocab.json\n",
        "\n",
        "%cd /content/JoyVASA/src/utils/dependencies/XPose/models/UniPose/ops\n",
        "!python setup.py build install"
      ]
    },
    {
      "cell_type": "code",
      "execution_count": null,
      "metadata": {
        "id": "9bOmDuGY3vCb"
      },
      "outputs": [],
      "source": [
        "## Runtime/Restart session"
      ]
    },
    {
      "cell_type": "code",
      "execution_count": 18,
      "metadata": {
        "id": "6-3rE6hG3vCd",
        "outputId": "82bc8f2d-5b72-40a7-deaf-f3a327355212",
        "colab": {
          "base_uri": "https://localhost:8080/",
          "height": 969
        }
      },
      "outputs": [
        {
          "output_type": "stream",
          "name": "stdout",
          "text": [
            "/content/JoyVASA\n"
          ]
        },
        {
          "output_type": "display_data",
          "data": {
            "text/plain": [
              "\u001b[2;36m[16:32:48]\u001b[0m\u001b[2;36m \u001b[0mLoad appearance_feature_extractor from                                   \u001b]8;id=865975;file:///content/JoyVASA/src/live_portrait_wmg_wrapper.py\u001b\\\u001b[2mlive_portrait_wmg_wrapper.py\u001b[0m\u001b]8;;\u001b\\\u001b[2m:\u001b[0m\u001b]8;id=789441;file:///content/JoyVASA/src/live_portrait_wmg_wrapper.py#55\u001b\\\u001b[2m55\u001b[0m\u001b]8;;\u001b\\\n",
              "\u001b[2;36m           \u001b[0m\u001b[35m/content/JoyVASA/pretrained_weights/liveportrait/base_models/\u001b[0m\u001b[95mappearance_\u001b[0m \u001b[2m                               \u001b[0m\n",
              "\u001b[2;36m           \u001b[0m\u001b[95mfeature_extractor.pth\u001b[0m done.                                              \u001b[2m                               \u001b[0m\n"
            ],
            "text/html": [
              "<pre style=\"white-space:pre;overflow-x:auto;line-height:normal;font-family:Menlo,'DejaVu Sans Mono',consolas,'Courier New',monospace\"><span style=\"color: #7fbfbf; text-decoration-color: #7fbfbf\">[16:32:48] </span>Load appearance_feature_extractor from                                   <a href=\"file:///content/JoyVASA/src/live_portrait_wmg_wrapper.py\" target=\"_blank\"><span style=\"color: #7f7f7f; text-decoration-color: #7f7f7f\">live_portrait_wmg_wrapper.py</span></a><span style=\"color: #7f7f7f; text-decoration-color: #7f7f7f\">:</span><a href=\"file:///content/JoyVASA/src/live_portrait_wmg_wrapper.py#55\" target=\"_blank\"><span style=\"color: #7f7f7f; text-decoration-color: #7f7f7f\">55</span></a>\n",
              "<span style=\"color: #7fbfbf; text-decoration-color: #7fbfbf\">           </span><span style=\"color: #800080; text-decoration-color: #800080\">/content/JoyVASA/pretrained_weights/liveportrait/base_models/</span><span style=\"color: #ff00ff; text-decoration-color: #ff00ff\">appearance_</span> <span style=\"color: #7f7f7f; text-decoration-color: #7f7f7f\">                               </span>\n",
              "<span style=\"color: #7fbfbf; text-decoration-color: #7fbfbf\">           </span><span style=\"color: #ff00ff; text-decoration-color: #ff00ff\">feature_extractor.pth</span> done.                                              <span style=\"color: #7f7f7f; text-decoration-color: #7f7f7f\">                               </span>\n",
              "</pre>\n"
            ]
          },
          "metadata": {}
        },
        {
          "output_type": "display_data",
          "data": {
            "text/plain": [
              "\u001b[2;36m          \u001b[0m\u001b[2;36m \u001b[0mLoad motion_extractor from                                               \u001b]8;id=971681;file:///content/JoyVASA/src/live_portrait_wmg_wrapper.py\u001b\\\u001b[2mlive_portrait_wmg_wrapper.py\u001b[0m\u001b]8;;\u001b\\\u001b[2m:\u001b[0m\u001b]8;id=263493;file:///content/JoyVASA/src/live_portrait_wmg_wrapper.py#58\u001b\\\u001b[2m58\u001b[0m\u001b]8;;\u001b\\\n",
              "\u001b[2;36m           \u001b[0m\u001b[35m/content/JoyVASA/pretrained_weights/liveportrait/base_models/\u001b[0m\u001b[95mmotion_extr\u001b[0m \u001b[2m                               \u001b[0m\n",
              "\u001b[2;36m           \u001b[0m\u001b[95mactor.pth\u001b[0m done.                                                          \u001b[2m                               \u001b[0m\n"
            ],
            "text/html": [
              "<pre style=\"white-space:pre;overflow-x:auto;line-height:normal;font-family:Menlo,'DejaVu Sans Mono',consolas,'Courier New',monospace\"><span style=\"color: #7fbfbf; text-decoration-color: #7fbfbf\">           </span>Load motion_extractor from                                               <a href=\"file:///content/JoyVASA/src/live_portrait_wmg_wrapper.py\" target=\"_blank\"><span style=\"color: #7f7f7f; text-decoration-color: #7f7f7f\">live_portrait_wmg_wrapper.py</span></a><span style=\"color: #7f7f7f; text-decoration-color: #7f7f7f\">:</span><a href=\"file:///content/JoyVASA/src/live_portrait_wmg_wrapper.py#58\" target=\"_blank\"><span style=\"color: #7f7f7f; text-decoration-color: #7f7f7f\">58</span></a>\n",
              "<span style=\"color: #7fbfbf; text-decoration-color: #7fbfbf\">           </span><span style=\"color: #800080; text-decoration-color: #800080\">/content/JoyVASA/pretrained_weights/liveportrait/base_models/</span><span style=\"color: #ff00ff; text-decoration-color: #ff00ff\">motion_extr</span> <span style=\"color: #7f7f7f; text-decoration-color: #7f7f7f\">                               </span>\n",
              "<span style=\"color: #7fbfbf; text-decoration-color: #7fbfbf\">           </span><span style=\"color: #ff00ff; text-decoration-color: #ff00ff\">actor.pth</span> done.                                                          <span style=\"color: #7f7f7f; text-decoration-color: #7f7f7f\">                               </span>\n",
              "</pre>\n"
            ]
          },
          "metadata": {}
        },
        {
          "output_type": "display_data",
          "data": {
            "text/plain": [
              "\u001b[2;36m[16:32:49]\u001b[0m\u001b[2;36m \u001b[0mLoad warping_module from                                                 \u001b]8;id=423260;file:///content/JoyVASA/src/live_portrait_wmg_wrapper.py\u001b\\\u001b[2mlive_portrait_wmg_wrapper.py\u001b[0m\u001b]8;;\u001b\\\u001b[2m:\u001b[0m\u001b]8;id=653164;file:///content/JoyVASA/src/live_portrait_wmg_wrapper.py#61\u001b\\\u001b[2m61\u001b[0m\u001b]8;;\u001b\\\n",
              "\u001b[2;36m           \u001b[0m\u001b[35m/content/JoyVASA/pretrained_weights/liveportrait/base_models/\u001b[0m\u001b[95mwarping_mod\u001b[0m \u001b[2m                               \u001b[0m\n",
              "\u001b[2;36m           \u001b[0m\u001b[95mule.pth\u001b[0m done.                                                            \u001b[2m                               \u001b[0m\n"
            ],
            "text/html": [
              "<pre style=\"white-space:pre;overflow-x:auto;line-height:normal;font-family:Menlo,'DejaVu Sans Mono',consolas,'Courier New',monospace\"><span style=\"color: #7fbfbf; text-decoration-color: #7fbfbf\">[16:32:49] </span>Load warping_module from                                                 <a href=\"file:///content/JoyVASA/src/live_portrait_wmg_wrapper.py\" target=\"_blank\"><span style=\"color: #7f7f7f; text-decoration-color: #7f7f7f\">live_portrait_wmg_wrapper.py</span></a><span style=\"color: #7f7f7f; text-decoration-color: #7f7f7f\">:</span><a href=\"file:///content/JoyVASA/src/live_portrait_wmg_wrapper.py#61\" target=\"_blank\"><span style=\"color: #7f7f7f; text-decoration-color: #7f7f7f\">61</span></a>\n",
              "<span style=\"color: #7fbfbf; text-decoration-color: #7fbfbf\">           </span><span style=\"color: #800080; text-decoration-color: #800080\">/content/JoyVASA/pretrained_weights/liveportrait/base_models/</span><span style=\"color: #ff00ff; text-decoration-color: #ff00ff\">warping_mod</span> <span style=\"color: #7f7f7f; text-decoration-color: #7f7f7f\">                               </span>\n",
              "<span style=\"color: #7fbfbf; text-decoration-color: #7fbfbf\">           </span><span style=\"color: #ff00ff; text-decoration-color: #ff00ff\">ule.pth</span> done.                                                            <span style=\"color: #7f7f7f; text-decoration-color: #7f7f7f\">                               </span>\n",
              "</pre>\n"
            ]
          },
          "metadata": {}
        },
        {
          "output_type": "display_data",
          "data": {
            "text/plain": [
              "\u001b[2;36m[16:32:50]\u001b[0m\u001b[2;36m \u001b[0mLoad spade_generator from                                                \u001b]8;id=538847;file:///content/JoyVASA/src/live_portrait_wmg_wrapper.py\u001b\\\u001b[2mlive_portrait_wmg_wrapper.py\u001b[0m\u001b]8;;\u001b\\\u001b[2m:\u001b[0m\u001b]8;id=379666;file:///content/JoyVASA/src/live_portrait_wmg_wrapper.py#64\u001b\\\u001b[2m64\u001b[0m\u001b]8;;\u001b\\\n",
              "\u001b[2;36m           \u001b[0m\u001b[35m/content/JoyVASA/pretrained_weights/liveportrait/base_models/\u001b[0m\u001b[95mspade_gener\u001b[0m \u001b[2m                               \u001b[0m\n",
              "\u001b[2;36m           \u001b[0m\u001b[95mator.pth\u001b[0m done.                                                           \u001b[2m                               \u001b[0m\n"
            ],
            "text/html": [
              "<pre style=\"white-space:pre;overflow-x:auto;line-height:normal;font-family:Menlo,'DejaVu Sans Mono',consolas,'Courier New',monospace\"><span style=\"color: #7fbfbf; text-decoration-color: #7fbfbf\">[16:32:50] </span>Load spade_generator from                                                <a href=\"file:///content/JoyVASA/src/live_portrait_wmg_wrapper.py\" target=\"_blank\"><span style=\"color: #7f7f7f; text-decoration-color: #7f7f7f\">live_portrait_wmg_wrapper.py</span></a><span style=\"color: #7f7f7f; text-decoration-color: #7f7f7f\">:</span><a href=\"file:///content/JoyVASA/src/live_portrait_wmg_wrapper.py#64\" target=\"_blank\"><span style=\"color: #7f7f7f; text-decoration-color: #7f7f7f\">64</span></a>\n",
              "<span style=\"color: #7fbfbf; text-decoration-color: #7fbfbf\">           </span><span style=\"color: #800080; text-decoration-color: #800080\">/content/JoyVASA/pretrained_weights/liveportrait/base_models/</span><span style=\"color: #ff00ff; text-decoration-color: #ff00ff\">spade_gener</span> <span style=\"color: #7f7f7f; text-decoration-color: #7f7f7f\">                               </span>\n",
              "<span style=\"color: #7fbfbf; text-decoration-color: #7fbfbf\">           </span><span style=\"color: #ff00ff; text-decoration-color: #ff00ff\">ator.pth</span> done.                                                           <span style=\"color: #7f7f7f; text-decoration-color: #7f7f7f\">                               </span>\n",
              "</pre>\n"
            ]
          },
          "metadata": {}
        },
        {
          "output_type": "display_data",
          "data": {
            "text/plain": [
              "\u001b[2;36m          \u001b[0m\u001b[2;36m \u001b[0mLoad stitching_retargeting_module from                                   \u001b]8;id=87371;file:///content/JoyVASA/src/live_portrait_wmg_wrapper.py\u001b\\\u001b[2mlive_portrait_wmg_wrapper.py\u001b[0m\u001b]8;;\u001b\\\u001b[2m:\u001b[0m\u001b]8;id=905945;file:///content/JoyVASA/src/live_portrait_wmg_wrapper.py#68\u001b\\\u001b[2m68\u001b[0m\u001b]8;;\u001b\\\n",
              "\u001b[2;36m           \u001b[0m\u001b[35m/content/JoyVASA/pretrained_weights/liveportrait/retargeting_models/\u001b[0m\u001b[95mstit\u001b[0m \u001b[2m                               \u001b[0m\n",
              "\u001b[2;36m           \u001b[0m\u001b[95mching_retargeting_module.pth\u001b[0m done.                                       \u001b[2m                               \u001b[0m\n"
            ],
            "text/html": [
              "<pre style=\"white-space:pre;overflow-x:auto;line-height:normal;font-family:Menlo,'DejaVu Sans Mono',consolas,'Courier New',monospace\"><span style=\"color: #7fbfbf; text-decoration-color: #7fbfbf\">           </span>Load stitching_retargeting_module from                                   <a href=\"file:///content/JoyVASA/src/live_portrait_wmg_wrapper.py\" target=\"_blank\"><span style=\"color: #7f7f7f; text-decoration-color: #7f7f7f\">live_portrait_wmg_wrapper.py</span></a><span style=\"color: #7f7f7f; text-decoration-color: #7f7f7f\">:</span><a href=\"file:///content/JoyVASA/src/live_portrait_wmg_wrapper.py#68\" target=\"_blank\"><span style=\"color: #7f7f7f; text-decoration-color: #7f7f7f\">68</span></a>\n",
              "<span style=\"color: #7fbfbf; text-decoration-color: #7fbfbf\">           </span><span style=\"color: #800080; text-decoration-color: #800080\">/content/JoyVASA/pretrained_weights/liveportrait/retargeting_models/</span><span style=\"color: #ff00ff; text-decoration-color: #ff00ff\">stit</span> <span style=\"color: #7f7f7f; text-decoration-color: #7f7f7f\">                               </span>\n",
              "<span style=\"color: #7fbfbf; text-decoration-color: #7fbfbf\">           </span><span style=\"color: #ff00ff; text-decoration-color: #ff00ff\">ching_retargeting_module.pth</span> done.                                       <span style=\"color: #7f7f7f; text-decoration-color: #7f7f7f\">                               </span>\n",
              "</pre>\n"
            ]
          },
          "metadata": {}
        },
        {
          "output_type": "stream",
          "name": "stdout",
          "text": [
            "using hubert chinese ori\n"
          ]
        },
        {
          "output_type": "display_data",
          "data": {
            "text/plain": [
              "\u001b[2;36m[16:32:51]\u001b[0m\u001b[2;36m \u001b[0mLoad motion_generator from                                               \u001b]8;id=262605;file:///content/JoyVASA/src/live_portrait_wmg_wrapper.py\u001b\\\u001b[2mlive_portrait_wmg_wrapper.py\u001b[0m\u001b]8;;\u001b\\\u001b[2m:\u001b[0m\u001b]8;id=237553;file:///content/JoyVASA/src/live_portrait_wmg_wrapper.py#82\u001b\\\u001b[2m82\u001b[0m\u001b]8;;\u001b\\\n",
              "\u001b[2;36m           \u001b[0m\u001b[35m/content/JoyVASA/pretrained_weights/JoyVASA/motion_generator/\u001b[0m\u001b[95mmotion_gene\u001b[0m \u001b[2m                               \u001b[0m\n",
              "\u001b[2;36m           \u001b[0m\u001b[95mrator_hubert_chinese.pt\u001b[0m done.                                            \u001b[2m                               \u001b[0m\n"
            ],
            "text/html": [
              "<pre style=\"white-space:pre;overflow-x:auto;line-height:normal;font-family:Menlo,'DejaVu Sans Mono',consolas,'Courier New',monospace\"><span style=\"color: #7fbfbf; text-decoration-color: #7fbfbf\">[16:32:51] </span>Load motion_generator from                                               <a href=\"file:///content/JoyVASA/src/live_portrait_wmg_wrapper.py\" target=\"_blank\"><span style=\"color: #7f7f7f; text-decoration-color: #7f7f7f\">live_portrait_wmg_wrapper.py</span></a><span style=\"color: #7f7f7f; text-decoration-color: #7f7f7f\">:</span><a href=\"file:///content/JoyVASA/src/live_portrait_wmg_wrapper.py#82\" target=\"_blank\"><span style=\"color: #7f7f7f; text-decoration-color: #7f7f7f\">82</span></a>\n",
              "<span style=\"color: #7fbfbf; text-decoration-color: #7fbfbf\">           </span><span style=\"color: #800080; text-decoration-color: #800080\">/content/JoyVASA/pretrained_weights/JoyVASA/motion_generator/</span><span style=\"color: #ff00ff; text-decoration-color: #ff00ff\">motion_gene</span> <span style=\"color: #7f7f7f; text-decoration-color: #7f7f7f\">                               </span>\n",
              "<span style=\"color: #7fbfbf; text-decoration-color: #7fbfbf\">           </span><span style=\"color: #ff00ff; text-decoration-color: #ff00ff\">rator_hubert_chinese.pt</span> done.                                            <span style=\"color: #7f7f7f; text-decoration-color: #7f7f7f\">                               </span>\n",
              "</pre>\n"
            ]
          },
          "metadata": {}
        },
        {
          "output_type": "stream",
          "name": "stderr",
          "text": [
            "/usr/local/lib/python3.11/dist-packages/onnxruntime/capi/onnxruntime_inference_collection.py:121: UserWarning: Specified provider 'CUDAExecutionProvider' is not in available provider names.Available providers: 'AzureExecutionProvider, CPUExecutionProvider'\n",
            "  warnings.warn(\n"
          ]
        },
        {
          "output_type": "display_data",
          "data": {
            "text/plain": [
              "\u001b[2;36m          \u001b[0m\u001b[2;36m \u001b[0mFaceAnalysisDIY warmup time: \u001b[1;36m0.\u001b[0m372s                                              \u001b]8;id=742430;file:///content/JoyVASA/src/utils/face_analysis_diy.py\u001b\\\u001b[2mface_analysis_diy.py\u001b[0m\u001b]8;;\u001b\\\u001b[2m:\u001b[0m\u001b]8;id=430257;file:///content/JoyVASA/src/utils/face_analysis_diy.py#79\u001b\\\u001b[2m79\u001b[0m\u001b]8;;\u001b\\\n"
            ],
            "text/html": [
              "<pre style=\"white-space:pre;overflow-x:auto;line-height:normal;font-family:Menlo,'DejaVu Sans Mono',consolas,'Courier New',monospace\"><span style=\"color: #7fbfbf; text-decoration-color: #7fbfbf\">           </span>FaceAnalysisDIY warmup time: <span style=\"color: #008080; text-decoration-color: #008080; font-weight: bold\">0.</span>372s                                              <a href=\"file:///content/JoyVASA/src/utils/face_analysis_diy.py\" target=\"_blank\"><span style=\"color: #7f7f7f; text-decoration-color: #7f7f7f\">face_analysis_diy.py</span></a><span style=\"color: #7f7f7f; text-decoration-color: #7f7f7f\">:</span><a href=\"file:///content/JoyVASA/src/utils/face_analysis_diy.py#79\" target=\"_blank\"><span style=\"color: #7f7f7f; text-decoration-color: #7f7f7f\">79</span></a>\n",
              "</pre>\n"
            ]
          },
          "metadata": {}
        },
        {
          "output_type": "display_data",
          "data": {
            "text/plain": [
              "\u001b[2;36m[16:32:52]\u001b[0m\u001b[2;36m \u001b[0mLandmarkRunner warmup time: \u001b[1;36m0.\u001b[0m251s                                           \u001b]8;id=296187;file:///content/JoyVASA/src/utils/human_landmark_runner.py\u001b\\\u001b[2mhuman_landmark_runner.py\u001b[0m\u001b]8;;\u001b\\\u001b[2m:\u001b[0m\u001b]8;id=143983;file:///content/JoyVASA/src/utils/human_landmark_runner.py#95\u001b\\\u001b[2m95\u001b[0m\u001b]8;;\u001b\\\n"
            ],
            "text/html": [
              "<pre style=\"white-space:pre;overflow-x:auto;line-height:normal;font-family:Menlo,'DejaVu Sans Mono',consolas,'Courier New',monospace\"><span style=\"color: #7fbfbf; text-decoration-color: #7fbfbf\">[16:32:52] </span>LandmarkRunner warmup time: <span style=\"color: #008080; text-decoration-color: #008080; font-weight: bold\">0.</span>251s                                           <a href=\"file:///content/JoyVASA/src/utils/human_landmark_runner.py\" target=\"_blank\"><span style=\"color: #7f7f7f; text-decoration-color: #7f7f7f\">human_landmark_runner.py</span></a><span style=\"color: #7f7f7f; text-decoration-color: #7f7f7f\">:</span><a href=\"file:///content/JoyVASA/src/utils/human_landmark_runner.py#95\" target=\"_blank\"><span style=\"color: #7f7f7f; text-decoration-color: #7f7f7f\">95</span></a>\n",
              "</pre>\n"
            ]
          },
          "metadata": {}
        },
        {
          "output_type": "display_data",
          "data": {
            "text/plain": [
              "\u001b[2;36m          \u001b[0m\u001b[2;36m \u001b[0mLoad appearance_feature_extractor from                                  \u001b]8;id=638249;file:///content/JoyVASA/src/live_portrait_wmg_wrapper.py\u001b\\\u001b[2mlive_portrait_wmg_wrapper.py\u001b[0m\u001b]8;;\u001b\\\u001b[2m:\u001b[0m\u001b]8;id=731410;file:///content/JoyVASA/src/live_portrait_wmg_wrapper.py#474\u001b\\\u001b[2m474\u001b[0m\u001b]8;;\u001b\\\n",
              "\u001b[2;36m           \u001b[0m\u001b[35m/content/JoyVASA/pretrained_weights/liveportrait_animals/base_models/\u001b[0m\u001b[95map\u001b[0m \u001b[2m                                \u001b[0m\n",
              "\u001b[2;36m           \u001b[0m\u001b[95mpearance_feature_extractor.pth\u001b[0m done.                                    \u001b[2m                                \u001b[0m\n"
            ],
            "text/html": [
              "<pre style=\"white-space:pre;overflow-x:auto;line-height:normal;font-family:Menlo,'DejaVu Sans Mono',consolas,'Courier New',monospace\"><span style=\"color: #7fbfbf; text-decoration-color: #7fbfbf\">           </span>Load appearance_feature_extractor from                                  <a href=\"file:///content/JoyVASA/src/live_portrait_wmg_wrapper.py\" target=\"_blank\"><span style=\"color: #7f7f7f; text-decoration-color: #7f7f7f\">live_portrait_wmg_wrapper.py</span></a><span style=\"color: #7f7f7f; text-decoration-color: #7f7f7f\">:</span><a href=\"file:///content/JoyVASA/src/live_portrait_wmg_wrapper.py#474\" target=\"_blank\"><span style=\"color: #7f7f7f; text-decoration-color: #7f7f7f\">474</span></a>\n",
              "<span style=\"color: #7fbfbf; text-decoration-color: #7fbfbf\">           </span><span style=\"color: #800080; text-decoration-color: #800080\">/content/JoyVASA/pretrained_weights/liveportrait_animals/base_models/</span><span style=\"color: #ff00ff; text-decoration-color: #ff00ff\">ap</span> <span style=\"color: #7f7f7f; text-decoration-color: #7f7f7f\">                                </span>\n",
              "<span style=\"color: #7fbfbf; text-decoration-color: #7fbfbf\">           </span><span style=\"color: #ff00ff; text-decoration-color: #ff00ff\">pearance_feature_extractor.pth</span> done.                                    <span style=\"color: #7f7f7f; text-decoration-color: #7f7f7f\">                                </span>\n",
              "</pre>\n"
            ]
          },
          "metadata": {}
        },
        {
          "output_type": "display_data",
          "data": {
            "text/plain": [
              "\u001b[2;36m          \u001b[0m\u001b[2;36m \u001b[0mLoad motion_extractor from                                              \u001b]8;id=139818;file:///content/JoyVASA/src/live_portrait_wmg_wrapper.py\u001b\\\u001b[2mlive_portrait_wmg_wrapper.py\u001b[0m\u001b]8;;\u001b\\\u001b[2m:\u001b[0m\u001b]8;id=582519;file:///content/JoyVASA/src/live_portrait_wmg_wrapper.py#477\u001b\\\u001b[2m477\u001b[0m\u001b]8;;\u001b\\\n",
              "\u001b[2;36m           \u001b[0m\u001b[35m/content/JoyVASA/pretrained_weights/liveportrait_animals/base_models/\u001b[0m\u001b[95mmo\u001b[0m \u001b[2m                                \u001b[0m\n",
              "\u001b[2;36m           \u001b[0m\u001b[95mtion_extractor.pth\u001b[0m done.                                                \u001b[2m                                \u001b[0m\n"
            ],
            "text/html": [
              "<pre style=\"white-space:pre;overflow-x:auto;line-height:normal;font-family:Menlo,'DejaVu Sans Mono',consolas,'Courier New',monospace\"><span style=\"color: #7fbfbf; text-decoration-color: #7fbfbf\">           </span>Load motion_extractor from                                              <a href=\"file:///content/JoyVASA/src/live_portrait_wmg_wrapper.py\" target=\"_blank\"><span style=\"color: #7f7f7f; text-decoration-color: #7f7f7f\">live_portrait_wmg_wrapper.py</span></a><span style=\"color: #7f7f7f; text-decoration-color: #7f7f7f\">:</span><a href=\"file:///content/JoyVASA/src/live_portrait_wmg_wrapper.py#477\" target=\"_blank\"><span style=\"color: #7f7f7f; text-decoration-color: #7f7f7f\">477</span></a>\n",
              "<span style=\"color: #7fbfbf; text-decoration-color: #7fbfbf\">           </span><span style=\"color: #800080; text-decoration-color: #800080\">/content/JoyVASA/pretrained_weights/liveportrait_animals/base_models/</span><span style=\"color: #ff00ff; text-decoration-color: #ff00ff\">mo</span> <span style=\"color: #7f7f7f; text-decoration-color: #7f7f7f\">                                </span>\n",
              "<span style=\"color: #7fbfbf; text-decoration-color: #7fbfbf\">           </span><span style=\"color: #ff00ff; text-decoration-color: #ff00ff\">tion_extractor.pth</span> done.                                                <span style=\"color: #7f7f7f; text-decoration-color: #7f7f7f\">                                </span>\n",
              "</pre>\n"
            ]
          },
          "metadata": {}
        },
        {
          "output_type": "display_data",
          "data": {
            "text/plain": [
              "\u001b[2;36m[16:32:53]\u001b[0m\u001b[2;36m \u001b[0mLoad warping_module from                                                \u001b]8;id=658532;file:///content/JoyVASA/src/live_portrait_wmg_wrapper.py\u001b\\\u001b[2mlive_portrait_wmg_wrapper.py\u001b[0m\u001b]8;;\u001b\\\u001b[2m:\u001b[0m\u001b]8;id=344628;file:///content/JoyVASA/src/live_portrait_wmg_wrapper.py#480\u001b\\\u001b[2m480\u001b[0m\u001b]8;;\u001b\\\n",
              "\u001b[2;36m           \u001b[0m\u001b[35m/content/JoyVASA/pretrained_weights/liveportrait_animals/base_models/\u001b[0m\u001b[95mwa\u001b[0m \u001b[2m                                \u001b[0m\n",
              "\u001b[2;36m           \u001b[0m\u001b[95mrping_module.pth\u001b[0m done.                                                  \u001b[2m                                \u001b[0m\n"
            ],
            "text/html": [
              "<pre style=\"white-space:pre;overflow-x:auto;line-height:normal;font-family:Menlo,'DejaVu Sans Mono',consolas,'Courier New',monospace\"><span style=\"color: #7fbfbf; text-decoration-color: #7fbfbf\">[16:32:53] </span>Load warping_module from                                                <a href=\"file:///content/JoyVASA/src/live_portrait_wmg_wrapper.py\" target=\"_blank\"><span style=\"color: #7f7f7f; text-decoration-color: #7f7f7f\">live_portrait_wmg_wrapper.py</span></a><span style=\"color: #7f7f7f; text-decoration-color: #7f7f7f\">:</span><a href=\"file:///content/JoyVASA/src/live_portrait_wmg_wrapper.py#480\" target=\"_blank\"><span style=\"color: #7f7f7f; text-decoration-color: #7f7f7f\">480</span></a>\n",
              "<span style=\"color: #7fbfbf; text-decoration-color: #7fbfbf\">           </span><span style=\"color: #800080; text-decoration-color: #800080\">/content/JoyVASA/pretrained_weights/liveportrait_animals/base_models/</span><span style=\"color: #ff00ff; text-decoration-color: #ff00ff\">wa</span> <span style=\"color: #7f7f7f; text-decoration-color: #7f7f7f\">                                </span>\n",
              "<span style=\"color: #7fbfbf; text-decoration-color: #7fbfbf\">           </span><span style=\"color: #ff00ff; text-decoration-color: #ff00ff\">rping_module.pth</span> done.                                                  <span style=\"color: #7f7f7f; text-decoration-color: #7f7f7f\">                                </span>\n",
              "</pre>\n"
            ]
          },
          "metadata": {}
        },
        {
          "output_type": "display_data",
          "data": {
            "text/plain": [
              "\u001b[2;36m          \u001b[0m\u001b[2;36m \u001b[0mLoad spade_generator from                                               \u001b]8;id=845104;file:///content/JoyVASA/src/live_portrait_wmg_wrapper.py\u001b\\\u001b[2mlive_portrait_wmg_wrapper.py\u001b[0m\u001b]8;;\u001b\\\u001b[2m:\u001b[0m\u001b]8;id=276240;file:///content/JoyVASA/src/live_portrait_wmg_wrapper.py#483\u001b\\\u001b[2m483\u001b[0m\u001b]8;;\u001b\\\n",
              "\u001b[2;36m           \u001b[0m\u001b[35m/content/JoyVASA/pretrained_weights/liveportrait_animals/base_models/\u001b[0m\u001b[95msp\u001b[0m \u001b[2m                                \u001b[0m\n",
              "\u001b[2;36m           \u001b[0m\u001b[95made_generator.pth\u001b[0m done.                                                 \u001b[2m                                \u001b[0m\n"
            ],
            "text/html": [
              "<pre style=\"white-space:pre;overflow-x:auto;line-height:normal;font-family:Menlo,'DejaVu Sans Mono',consolas,'Courier New',monospace\"><span style=\"color: #7fbfbf; text-decoration-color: #7fbfbf\">           </span>Load spade_generator from                                               <a href=\"file:///content/JoyVASA/src/live_portrait_wmg_wrapper.py\" target=\"_blank\"><span style=\"color: #7f7f7f; text-decoration-color: #7f7f7f\">live_portrait_wmg_wrapper.py</span></a><span style=\"color: #7f7f7f; text-decoration-color: #7f7f7f\">:</span><a href=\"file:///content/JoyVASA/src/live_portrait_wmg_wrapper.py#483\" target=\"_blank\"><span style=\"color: #7f7f7f; text-decoration-color: #7f7f7f\">483</span></a>\n",
              "<span style=\"color: #7fbfbf; text-decoration-color: #7fbfbf\">           </span><span style=\"color: #800080; text-decoration-color: #800080\">/content/JoyVASA/pretrained_weights/liveportrait_animals/base_models/</span><span style=\"color: #ff00ff; text-decoration-color: #ff00ff\">sp</span> <span style=\"color: #7f7f7f; text-decoration-color: #7f7f7f\">                                </span>\n",
              "<span style=\"color: #7fbfbf; text-decoration-color: #7fbfbf\">           </span><span style=\"color: #ff00ff; text-decoration-color: #ff00ff\">ade_generator.pth</span> done.                                                 <span style=\"color: #7f7f7f; text-decoration-color: #7f7f7f\">                                </span>\n",
              "</pre>\n"
            ]
          },
          "metadata": {}
        },
        {
          "output_type": "display_data",
          "data": {
            "text/plain": [
              "\u001b[2;36m          \u001b[0m\u001b[2;36m \u001b[0mLoad stitching_retargeting_module from                                  \u001b]8;id=721582;file:///content/JoyVASA/src/live_portrait_wmg_wrapper.py\u001b\\\u001b[2mlive_portrait_wmg_wrapper.py\u001b[0m\u001b]8;;\u001b\\\u001b[2m:\u001b[0m\u001b]8;id=893724;file:///content/JoyVASA/src/live_portrait_wmg_wrapper.py#487\u001b\\\u001b[2m487\u001b[0m\u001b]8;;\u001b\\\n",
              "\u001b[2;36m           \u001b[0m\u001b[35m/content/JoyVASA/pretrained_weights/liveportrait/retargeting_models/\u001b[0m\u001b[95msti\u001b[0m \u001b[2m                                \u001b[0m\n",
              "\u001b[2;36m           \u001b[0m\u001b[95mtching_retargeting_module.pth\u001b[0m done.                                     \u001b[2m                                \u001b[0m\n"
            ],
            "text/html": [
              "<pre style=\"white-space:pre;overflow-x:auto;line-height:normal;font-family:Menlo,'DejaVu Sans Mono',consolas,'Courier New',monospace\"><span style=\"color: #7fbfbf; text-decoration-color: #7fbfbf\">           </span>Load stitching_retargeting_module from                                  <a href=\"file:///content/JoyVASA/src/live_portrait_wmg_wrapper.py\" target=\"_blank\"><span style=\"color: #7f7f7f; text-decoration-color: #7f7f7f\">live_portrait_wmg_wrapper.py</span></a><span style=\"color: #7f7f7f; text-decoration-color: #7f7f7f\">:</span><a href=\"file:///content/JoyVASA/src/live_portrait_wmg_wrapper.py#487\" target=\"_blank\"><span style=\"color: #7f7f7f; text-decoration-color: #7f7f7f\">487</span></a>\n",
              "<span style=\"color: #7fbfbf; text-decoration-color: #7fbfbf\">           </span><span style=\"color: #800080; text-decoration-color: #800080\">/content/JoyVASA/pretrained_weights/liveportrait/retargeting_models/</span><span style=\"color: #ff00ff; text-decoration-color: #ff00ff\">sti</span> <span style=\"color: #7f7f7f; text-decoration-color: #7f7f7f\">                                </span>\n",
              "<span style=\"color: #7fbfbf; text-decoration-color: #7fbfbf\">           </span><span style=\"color: #ff00ff; text-decoration-color: #ff00ff\">tching_retargeting_module.pth</span> done.                                     <span style=\"color: #7f7f7f; text-decoration-color: #7f7f7f\">                                </span>\n",
              "</pre>\n"
            ]
          },
          "metadata": {}
        },
        {
          "output_type": "stream",
          "name": "stdout",
          "text": [
            "using hubert chinese ori\n"
          ]
        },
        {
          "output_type": "display_data",
          "data": {
            "text/plain": [
              "\u001b[2;36m[16:32:54]\u001b[0m\u001b[2;36m \u001b[0mLoad motion_generator from                                              \u001b]8;id=988658;file:///content/JoyVASA/src/live_portrait_wmg_wrapper.py\u001b\\\u001b[2mlive_portrait_wmg_wrapper.py\u001b[0m\u001b]8;;\u001b\\\u001b[2m:\u001b[0m\u001b]8;id=848239;file:///content/JoyVASA/src/live_portrait_wmg_wrapper.py#501\u001b\\\u001b[2m501\u001b[0m\u001b]8;;\u001b\\\n",
              "\u001b[2;36m           \u001b[0m\u001b[35m/content/JoyVASA/pretrained_weights/JoyVASA/motion_generator/\u001b[0m\u001b[95mmotion_gen\u001b[0m \u001b[2m                                \u001b[0m\n",
              "\u001b[2;36m           \u001b[0m\u001b[95merator_hubert_chinese.pt\u001b[0m done.                                          \u001b[2m                                \u001b[0m\n"
            ],
            "text/html": [
              "<pre style=\"white-space:pre;overflow-x:auto;line-height:normal;font-family:Menlo,'DejaVu Sans Mono',consolas,'Courier New',monospace\"><span style=\"color: #7fbfbf; text-decoration-color: #7fbfbf\">[16:32:54] </span>Load motion_generator from                                              <a href=\"file:///content/JoyVASA/src/live_portrait_wmg_wrapper.py\" target=\"_blank\"><span style=\"color: #7f7f7f; text-decoration-color: #7f7f7f\">live_portrait_wmg_wrapper.py</span></a><span style=\"color: #7f7f7f; text-decoration-color: #7f7f7f\">:</span><a href=\"file:///content/JoyVASA/src/live_portrait_wmg_wrapper.py#501\" target=\"_blank\"><span style=\"color: #7f7f7f; text-decoration-color: #7f7f7f\">501</span></a>\n",
              "<span style=\"color: #7fbfbf; text-decoration-color: #7fbfbf\">           </span><span style=\"color: #800080; text-decoration-color: #800080\">/content/JoyVASA/pretrained_weights/JoyVASA/motion_generator/</span><span style=\"color: #ff00ff; text-decoration-color: #ff00ff\">motion_gen</span> <span style=\"color: #7f7f7f; text-decoration-color: #7f7f7f\">                                </span>\n",
              "<span style=\"color: #7fbfbf; text-decoration-color: #7fbfbf\">           </span><span style=\"color: #ff00ff; text-decoration-color: #ff00ff\">erator_hubert_chinese.pt</span> done.                                          <span style=\"color: #7f7f7f; text-decoration-color: #7f7f7f\">                                </span>\n",
              "</pre>\n"
            ]
          },
          "metadata": {}
        },
        {
          "output_type": "display_data",
          "data": {
            "text/plain": [
              "\u001b[2;36m          \u001b[0m\u001b[2;36m \u001b[0mFaceAnalysisDIY warmup time: \u001b[1;36m0.\u001b[0m233s                                              \u001b]8;id=708572;file:///content/JoyVASA/src/utils/face_analysis_diy.py\u001b\\\u001b[2mface_analysis_diy.py\u001b[0m\u001b]8;;\u001b\\\u001b[2m:\u001b[0m\u001b]8;id=143787;file:///content/JoyVASA/src/utils/face_analysis_diy.py#79\u001b\\\u001b[2m79\u001b[0m\u001b]8;;\u001b\\\n"
            ],
            "text/html": [
              "<pre style=\"white-space:pre;overflow-x:auto;line-height:normal;font-family:Menlo,'DejaVu Sans Mono',consolas,'Courier New',monospace\"><span style=\"color: #7fbfbf; text-decoration-color: #7fbfbf\">           </span>FaceAnalysisDIY warmup time: <span style=\"color: #008080; text-decoration-color: #008080; font-weight: bold\">0.</span>233s                                              <a href=\"file:///content/JoyVASA/src/utils/face_analysis_diy.py\" target=\"_blank\"><span style=\"color: #7f7f7f; text-decoration-color: #7f7f7f\">face_analysis_diy.py</span></a><span style=\"color: #7f7f7f; text-decoration-color: #7f7f7f\">:</span><a href=\"file:///content/JoyVASA/src/utils/face_analysis_diy.py#79\" target=\"_blank\"><span style=\"color: #7f7f7f; text-decoration-color: #7f7f7f\">79</span></a>\n",
              "</pre>\n"
            ]
          },
          "metadata": {}
        },
        {
          "output_type": "display_data",
          "data": {
            "text/plain": [
              "\u001b[2;36m[16:32:55]\u001b[0m\u001b[2;36m \u001b[0mLandmarkRunner warmup time: \u001b[1;36m0.\u001b[0m166s                                           \u001b]8;id=723640;file:///content/JoyVASA/src/utils/human_landmark_runner.py\u001b\\\u001b[2mhuman_landmark_runner.py\u001b[0m\u001b]8;;\u001b\\\u001b[2m:\u001b[0m\u001b]8;id=551847;file:///content/JoyVASA/src/utils/human_landmark_runner.py#95\u001b\\\u001b[2m95\u001b[0m\u001b]8;;\u001b\\\n"
            ],
            "text/html": [
              "<pre style=\"white-space:pre;overflow-x:auto;line-height:normal;font-family:Menlo,'DejaVu Sans Mono',consolas,'Courier New',monospace\"><span style=\"color: #7fbfbf; text-decoration-color: #7fbfbf\">[16:32:55] </span>LandmarkRunner warmup time: <span style=\"color: #008080; text-decoration-color: #008080; font-weight: bold\">0.</span>166s                                           <a href=\"file:///content/JoyVASA/src/utils/human_landmark_runner.py\" target=\"_blank\"><span style=\"color: #7f7f7f; text-decoration-color: #7f7f7f\">human_landmark_runner.py</span></a><span style=\"color: #7f7f7f; text-decoration-color: #7f7f7f\">:</span><a href=\"file:///content/JoyVASA/src/utils/human_landmark_runner.py#95\" target=\"_blank\"><span style=\"color: #7f7f7f; text-decoration-color: #7f7f7f\">95</span></a>\n",
              "</pre>\n"
            ]
          },
          "metadata": {}
        },
        {
          "output_type": "stream",
          "name": "stdout",
          "text": [
            "Loaded cached embeddings from file.\n"
          ]
        },
        {
          "output_type": "stream",
          "name": "stderr",
          "text": [
            "/usr/local/lib/python3.11/dist-packages/torch/_dynamo/eval_frame.py:745: UserWarning: torch.utils.checkpoint: the use_reentrant parameter should be passed explicitly. In version 2.5 we will raise an exception if use_reentrant is not passed. use_reentrant=False is recommended, but if you need to preserve the current default behavior, you can pass use_reentrant=True. Refer to docs for more details on the differences between the two variants.\n",
            "  return fn(*args, **kwargs)\n",
            "/content/JoyVASA/src/utils/dependencies/XPose/models/UniPose/deformable_transformer.py:1052: FutureWarning: `torch.cuda.amp.autocast(args...)` is deprecated. Please use `torch.amp.autocast('cuda', args...)` instead.\n",
            "  with torch.cuda.amp.autocast(enabled=False):\n"
          ]
        },
        {
          "output_type": "display_data",
          "data": {
            "text/plain": [
              "\u001b[2;36m[16:32:56]\u001b[0m\u001b[2;36m \u001b[0mXPoseRunner warmup time: \u001b[1;36m0.\u001b[0m913s                                            \u001b]8;id=758508;file:///content/JoyVASA/src/utils/animal_landmark_runner.py\u001b\\\u001b[2manimal_landmark_runner.py\u001b[0m\u001b]8;;\u001b\\\u001b[2m:\u001b[0m\u001b]8;id=457613;file:///content/JoyVASA/src/utils/animal_landmark_runner.py#138\u001b\\\u001b[2m138\u001b[0m\u001b]8;;\u001b\\\n"
            ],
            "text/html": [
              "<pre style=\"white-space:pre;overflow-x:auto;line-height:normal;font-family:Menlo,'DejaVu Sans Mono',consolas,'Courier New',monospace\"><span style=\"color: #7fbfbf; text-decoration-color: #7fbfbf\">[16:32:56] </span>XPoseRunner warmup time: <span style=\"color: #008080; text-decoration-color: #008080; font-weight: bold\">0.</span>913s                                            <a href=\"file:///content/JoyVASA/src/utils/animal_landmark_runner.py\" target=\"_blank\"><span style=\"color: #7f7f7f; text-decoration-color: #7f7f7f\">animal_landmark_runner.py</span></a><span style=\"color: #7f7f7f; text-decoration-color: #7f7f7f\">:</span><a href=\"file:///content/JoyVASA/src/utils/animal_landmark_runner.py#138\" target=\"_blank\"><span style=\"color: #7f7f7f; text-decoration-color: #7f7f7f\">138</span></a>\n",
              "</pre>\n"
            ]
          },
          "metadata": {}
        },
        {
          "output_type": "stream",
          "name": "stdout",
          "text": [
            "Colab notebook detected. To show errors in colab notebook, set debug=True in launch()\n",
            "* Running on public URL: https://45f264fa3a3540350c.gradio.live\n",
            "\n",
            "This share link expires in 1 week. For free permanent hosting and GPU upgrades, run `gradio deploy` from the terminal in the working directory to deploy to Hugging Face Spaces (https://huggingface.co/spaces)\n"
          ]
        },
        {
          "output_type": "execute_result",
          "data": {
            "text/plain": []
          },
          "metadata": {},
          "execution_count": 18
        }
      ],
      "source": [
        "%cd /content/JoyVASA\n",
        "\n",
        "import os\n",
        "import gradio as gr\n",
        "import os.path as osp\n",
        "import torch\n",
        "from argparse import Namespace\n",
        "from pathlib import PosixPath\n",
        "\n",
        "# Allow safe unpickling of argparse.Namespace and pathlib.PosixPath\n",
        "torch.serialization.add_safe_globals([Namespace, PosixPath])\n",
        "\n",
        "from src.gradio_pipeline import GradioPipeline, GradioPipelineAnimal\n",
        "from src.config.crop_config import CropConfig\n",
        "from src.config.argument_config import ArgumentConfig\n",
        "from src.config.inference_config import InferenceConfig\n",
        "\n",
        "args = ArgumentConfig(\n",
        "    gradio_temp_dir=\"gradio_temp\",\n",
        "    server_port=7869,\n",
        "    share=True,\n",
        "    server_name=\"127.0.0.1\",\n",
        ")\n",
        "\n",
        "inference_cfg = InferenceConfig()\n",
        "crop_cfg = CropConfig()\n",
        "\n",
        "gradio_pipeline_human = GradioPipeline(\n",
        "    inference_cfg=inference_cfg,\n",
        "    crop_cfg=crop_cfg,\n",
        "    args=args\n",
        ")\n",
        "gradio_pipeline_animal = GradioPipelineAnimal(\n",
        "    inference_cfg=inference_cfg,\n",
        "    crop_cfg=crop_cfg,\n",
        "    args=args\n",
        ")\n",
        "\n",
        "def gpu_wrapped_execute_a2v(*args, **kwargs):\n",
        "    if args[5] == \"animal\":\n",
        "        return gradio_pipeline_animal.execute_a2v(*args, **kwargs)\n",
        "    else:\n",
        "        return gradio_pipeline_human.execute_a2v(*args, **kwargs)\n",
        "\n",
        "with gr.Blocks(theme=gr.themes.Soft(font=[gr.themes.GoogleFont(\"Plus Jakarta Sans\")])) as demo:\n",
        "    with gr.Row():\n",
        "        with gr.Accordion(open=True, label=\"🖼️ Reference Image\"):\n",
        "            input_image = gr.Image(type=\"filepath\", width=512, label=\"Reference Image\")\n",
        "        with gr.Accordion(open=True, label=\"🎵 Input Audio\"):\n",
        "            input_audio = gr.Audio(type=\"filepath\", label=\"Input Audio\")\n",
        "        with gr.Accordion(open=True, label=\"🎬 Output Video\",):\n",
        "            output_video = gr.Video(autoplay=False, interactive=False, width=512)\n",
        "    with gr.Column():\n",
        "        with gr.Accordion(open=True, label=\"Key Animation Options\"):\n",
        "            with gr.Row():\n",
        "                animation_mode = gr.Radio(['human', 'animal'], value=\"human\", label=\"Animation Mode\")\n",
        "                flag_do_crop_input = gr.Checkbox(value=True, label=\"do crop (image)\")\n",
        "                cfg_scale = gr.Number(value=4.0, label=\"cfg_scale\", minimum=0.0, maximum=10.0, step=0.5)\n",
        "        with gr.Accordion(open=False, label=\"Optional Animation Options\"):\n",
        "            with gr.Row():\n",
        "                driving_option_input = gr.Radio(['expression-friendly', 'pose-friendly'], value=\"expression-friendly\", label=\"driving option\")\n",
        "                driving_multiplier = gr.Number(value=1.0, label=\"driving multiplier\", minimum=0.0, maximum=2.0, step=0.02)\n",
        "            with gr.Row():\n",
        "                flag_normalize_lip = gr.Checkbox(value=True, label=\"normalize lip\")\n",
        "                flag_relative_motion = gr.Checkbox(value=True, label=\"relative motion\")\n",
        "                flag_remap_input = gr.Checkbox(value=True, label=\"paste-back\")\n",
        "                flag_stitching_input = gr.Checkbox(value=True, label=\"stitching\")\n",
        "        with gr.Accordion(open=False, label=\"Optional Options for Reference Image\"):\n",
        "            with gr.Row():\n",
        "                scale = gr.Number(value=2.3, label=\"image crop scale\", minimum=1.8, maximum=4.0, step=0.05)\n",
        "                vx_ratio = gr.Number(value=0.0, label=\"image crop x\", minimum=-0.5, maximum=0.5, step=0.01)\n",
        "                vy_ratio = gr.Number(value=-0.125, label=\"image crop y\", minimum=-0.5, maximum=0.5, step=0.01)\n",
        "\n",
        "    with gr.Row():\n",
        "        process_button_generate = gr.Button(\"🚀 Generate\", variant=\"primary\")\n",
        "    generation_func = gpu_wrapped_execute_a2v\n",
        "    process_button_generate.click(\n",
        "        fn=generation_func,\n",
        "        inputs=[\n",
        "            input_image,\n",
        "            input_audio,\n",
        "            flag_normalize_lip,\n",
        "            flag_relative_motion,\n",
        "            driving_multiplier,\n",
        "            animation_mode,\n",
        "            driving_option_input,\n",
        "            flag_do_crop_input,\n",
        "            scale,\n",
        "            vx_ratio,\n",
        "            vy_ratio,\n",
        "            flag_stitching_input,\n",
        "            flag_remap_input,\n",
        "            cfg_scale,\n",
        "        ],\n",
        "        outputs=[\n",
        "            output_video,\n",
        "        ],\n",
        "        show_progress=True\n",
        "    )\n",
        "\n",
        "demo.launch(\n",
        "    server_port=args.server_port,\n",
        "    share=args.share,\n",
        "    server_name=args.server_name,\n",
        "    inline=False\n",
        ")\n"
      ]
    }
  ],
  "metadata": {
    "accelerator": "GPU",
    "colab": {
      "gpuType": "T4",
      "provenance": [],
      "include_colab_link": true
    },
    "kernelspec": {
      "display_name": "Python 3",
      "name": "python3"
    },
    "language_info": {
      "name": "python"
    }
  },
  "nbformat": 4,
  "nbformat_minor": 0
}